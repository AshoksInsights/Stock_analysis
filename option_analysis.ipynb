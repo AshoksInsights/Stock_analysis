{
 "cells": [
  {
   "cell_type": "code",
   "execution_count": 16,
   "id": "a742af55",
   "metadata": {},
   "outputs": [],
   "source": [
    "import pandas as pd \n",
    "import numpy as np\n",
    "import datetime\n",
    "import Analysis\n",
    "import pandas_ta as ta"
   ]
  },
  {
   "cell_type": "code",
   "execution_count": 3,
   "id": "35a47729",
   "metadata": {},
   "outputs": [],
   "source": [
    "df = pd.read_csv('final_df.csv')"
   ]
  },
  {
   "cell_type": "code",
   "execution_count": 4,
   "id": "012543b6",
   "metadata": {},
   "outputs": [],
   "source": [
    "df['Fetch_Time'] = pd.to_datetime(df['Fetch_Time'])"
   ]
  },
  {
   "cell_type": "code",
   "execution_count": 72,
   "id": "71d6baaa",
   "metadata": {},
   "outputs": [],
   "source": [
    "strike = df.Strike_Price.unique()"
   ]
  },
  {
   "cell_type": "code",
   "execution_count": 57,
   "id": "72051306",
   "metadata": {},
   "outputs": [],
   "source": [
    "new = df[(df['Strike_Price'] == 24550) & (df['Expiry_Date']=='2025-05-08')]"
   ]
  },
  {
   "cell_type": "code",
   "execution_count": 58,
   "id": "374c88ba",
   "metadata": {},
   "outputs": [
    {
     "name": "stderr",
     "output_type": "stream",
     "text": [
      "/tmp/ipykernel_716/788553029.py:1: SettingWithCopyWarning: \n",
      "A value is trying to be set on a copy of a slice from a DataFrame.\n",
      "Try using .loc[row_indexer,col_indexer] = value instead\n",
      "\n",
      "See the caveats in the documentation: https://pandas.pydata.org/pandas-docs/stable/user_guide/indexing.html#returning-a-view-versus-a-copy\n",
      "  new['Date'] = new['Fetch_Time'].dt.date\n"
     ]
    }
   ],
   "source": [
    "new['Date'] = new['Fetch_Time'].dt.date"
   ]
  },
  {
   "cell_type": "code",
   "execution_count": 59,
   "id": "0c8d7237",
   "metadata": {},
   "outputs": [],
   "source": [
    "chk = new[new['Date'] == datetime.date.today()][['Fetch_Time','CALLS_LTP']]"
   ]
  },
  {
   "cell_type": "code",
   "execution_count": 60,
   "id": "0c37aa5f",
   "metadata": {},
   "outputs": [
    {
     "data": {
      "text/html": [
       "<div>\n",
       "<style scoped>\n",
       "    .dataframe tbody tr th:only-of-type {\n",
       "        vertical-align: middle;\n",
       "    }\n",
       "\n",
       "    .dataframe tbody tr th {\n",
       "        vertical-align: top;\n",
       "    }\n",
       "\n",
       "    .dataframe thead th {\n",
       "        text-align: right;\n",
       "    }\n",
       "</style>\n",
       "<table border=\"1\" class=\"dataframe\">\n",
       "  <thead>\n",
       "    <tr style=\"text-align: right;\">\n",
       "      <th></th>\n",
       "      <th>Fetch_Time</th>\n",
       "      <th>Symbol</th>\n",
       "      <th>Expiry_Date</th>\n",
       "      <th>CALLS_LTP</th>\n",
       "      <th>Strike_Price</th>\n",
       "      <th>PUTS_LTP</th>\n",
       "      <th>Date</th>\n",
       "    </tr>\n",
       "  </thead>\n",
       "  <tbody>\n",
       "    <tr>\n",
       "      <th>305522</th>\n",
       "      <td>2025-05-02 09:17:14</td>\n",
       "      <td>NIFTY</td>\n",
       "      <td>2025-05-08</td>\n",
       "      <td>158.30</td>\n",
       "      <td>24550</td>\n",
       "      <td>251.70</td>\n",
       "      <td>2025-05-02</td>\n",
       "    </tr>\n",
       "    <tr>\n",
       "      <th>306357</th>\n",
       "      <td>2025-05-02 09:18:14</td>\n",
       "      <td>NIFTY</td>\n",
       "      <td>2025-05-08</td>\n",
       "      <td>158.10</td>\n",
       "      <td>24550</td>\n",
       "      <td>251.50</td>\n",
       "      <td>2025-05-02</td>\n",
       "    </tr>\n",
       "    <tr>\n",
       "      <th>307192</th>\n",
       "      <td>2025-05-02 09:19:14</td>\n",
       "      <td>NIFTY</td>\n",
       "      <td>2025-05-08</td>\n",
       "      <td>147.65</td>\n",
       "      <td>24550</td>\n",
       "      <td>248.50</td>\n",
       "      <td>2025-05-02</td>\n",
       "    </tr>\n",
       "    <tr>\n",
       "      <th>308029</th>\n",
       "      <td>2025-05-02 09:20:44</td>\n",
       "      <td>NIFTY</td>\n",
       "      <td>2025-05-08</td>\n",
       "      <td>144.50</td>\n",
       "      <td>24550</td>\n",
       "      <td>254.05</td>\n",
       "      <td>2025-05-02</td>\n",
       "    </tr>\n",
       "    <tr>\n",
       "      <th>308867</th>\n",
       "      <td>2025-05-02 09:21:44</td>\n",
       "      <td>NIFTY</td>\n",
       "      <td>2025-05-08</td>\n",
       "      <td>139.20</td>\n",
       "      <td>24550</td>\n",
       "      <td>249.90</td>\n",
       "      <td>2025-05-02</td>\n",
       "    </tr>\n",
       "    <tr>\n",
       "      <th>...</th>\n",
       "      <td>...</td>\n",
       "      <td>...</td>\n",
       "      <td>...</td>\n",
       "      <td>...</td>\n",
       "      <td>...</td>\n",
       "      <td>...</td>\n",
       "      <td>...</td>\n",
       "    </tr>\n",
       "    <tr>\n",
       "      <th>388157</th>\n",
       "      <td>2025-05-02 11:03:47</td>\n",
       "      <td>NIFTY</td>\n",
       "      <td>2025-05-08</td>\n",
       "      <td>136.15</td>\n",
       "      <td>24550</td>\n",
       "      <td>228.80</td>\n",
       "      <td>2025-05-02</td>\n",
       "    </tr>\n",
       "    <tr>\n",
       "      <th>389012</th>\n",
       "      <td>2025-05-02 11:04:47</td>\n",
       "      <td>NIFTY</td>\n",
       "      <td>2025-05-08</td>\n",
       "      <td>131.05</td>\n",
       "      <td>24550</td>\n",
       "      <td>238.00</td>\n",
       "      <td>2025-05-02</td>\n",
       "    </tr>\n",
       "    <tr>\n",
       "      <th>389867</th>\n",
       "      <td>2025-05-02 11:06:17</td>\n",
       "      <td>NIFTY</td>\n",
       "      <td>2025-05-08</td>\n",
       "      <td>137.15</td>\n",
       "      <td>24550</td>\n",
       "      <td>231.35</td>\n",
       "      <td>2025-05-02</td>\n",
       "    </tr>\n",
       "    <tr>\n",
       "      <th>390722</th>\n",
       "      <td>2025-05-02 11:06:47</td>\n",
       "      <td>NIFTY</td>\n",
       "      <td>2025-05-08</td>\n",
       "      <td>139.85</td>\n",
       "      <td>24550</td>\n",
       "      <td>224.30</td>\n",
       "      <td>2025-05-02</td>\n",
       "    </tr>\n",
       "    <tr>\n",
       "      <th>391577</th>\n",
       "      <td>2025-05-02 11:07:47</td>\n",
       "      <td>NIFTY</td>\n",
       "      <td>2025-05-08</td>\n",
       "      <td>136.45</td>\n",
       "      <td>24550</td>\n",
       "      <td>228.30</td>\n",
       "      <td>2025-05-02</td>\n",
       "    </tr>\n",
       "  </tbody>\n",
       "</table>\n",
       "<p>102 rows × 7 columns</p>\n",
       "</div>"
      ],
      "text/plain": [
       "                Fetch_Time Symbol Expiry_Date  CALLS_LTP  Strike_Price  \\\n",
       "305522 2025-05-02 09:17:14  NIFTY  2025-05-08     158.30         24550   \n",
       "306357 2025-05-02 09:18:14  NIFTY  2025-05-08     158.10         24550   \n",
       "307192 2025-05-02 09:19:14  NIFTY  2025-05-08     147.65         24550   \n",
       "308029 2025-05-02 09:20:44  NIFTY  2025-05-08     144.50         24550   \n",
       "308867 2025-05-02 09:21:44  NIFTY  2025-05-08     139.20         24550   \n",
       "...                    ...    ...         ...        ...           ...   \n",
       "388157 2025-05-02 11:03:47  NIFTY  2025-05-08     136.15         24550   \n",
       "389012 2025-05-02 11:04:47  NIFTY  2025-05-08     131.05         24550   \n",
       "389867 2025-05-02 11:06:17  NIFTY  2025-05-08     137.15         24550   \n",
       "390722 2025-05-02 11:06:47  NIFTY  2025-05-08     139.85         24550   \n",
       "391577 2025-05-02 11:07:47  NIFTY  2025-05-08     136.45         24550   \n",
       "\n",
       "        PUTS_LTP        Date  \n",
       "305522    251.70  2025-05-02  \n",
       "306357    251.50  2025-05-02  \n",
       "307192    248.50  2025-05-02  \n",
       "308029    254.05  2025-05-02  \n",
       "308867    249.90  2025-05-02  \n",
       "...          ...         ...  \n",
       "388157    228.80  2025-05-02  \n",
       "389012    238.00  2025-05-02  \n",
       "389867    231.35  2025-05-02  \n",
       "390722    224.30  2025-05-02  \n",
       "391577    228.30  2025-05-02  \n",
       "\n",
       "[102 rows x 7 columns]"
      ]
     },
     "execution_count": 60,
     "metadata": {},
     "output_type": "execute_result"
    }
   ],
   "source": [
    "new[new['Date'] == datetime.date.today()]"
   ]
  },
  {
   "cell_type": "code",
   "execution_count": 61,
   "id": "a054f709",
   "metadata": {},
   "outputs": [],
   "source": [
    "chk1 = chk.resample('5min',on='Fetch_Time').agg({'CALLS_LTP':['first', 'min', 'max', 'last']}).reset_index()"
   ]
  },
  {
   "cell_type": "code",
   "execution_count": 62,
   "id": "842f2f47",
   "metadata": {},
   "outputs": [],
   "source": [
    "\n",
    "chk1.columns = ['datetime', 'Open', 'Low', 'High', 'Close']\n"
   ]
  },
  {
   "cell_type": "code",
   "execution_count": 63,
   "id": "0620ee74",
   "metadata": {},
   "outputs": [],
   "source": [
    "chk1['smma'] = Analysis.calculate_smma(chk1, period=7)"
   ]
  },
  {
   "cell_type": "code",
   "execution_count": 64,
   "id": "8d430620",
   "metadata": {},
   "outputs": [],
   "source": [
    "chk1['rsi'] = ta.rsi(chk1['Close'])"
   ]
  },
  {
   "cell_type": "code",
   "execution_count": 65,
   "id": "4191bc9a",
   "metadata": {},
   "outputs": [],
   "source": [
    "chk1['dema'] = ta.dema(chk1['Close'], length=10)"
   ]
  },
  {
   "cell_type": "code",
   "execution_count": 66,
   "id": "49992d4b",
   "metadata": {},
   "outputs": [],
   "source": [
    "chk1['super_trend'] = ta.supertrend(chk1['High'], chk1['Low'], chk1['Close'], length=10, multiplier=3)['SUPERT_10_3.0']"
   ]
  },
  {
   "cell_type": "code",
   "execution_count": 67,
   "id": "9c032731",
   "metadata": {},
   "outputs": [],
   "source": [
    "chk1['super_trend_color'] = np.where(chk1['Close'] > chk1['super_trend'] , \"green\" , \"red\")\n",
    "chk1['BBM'] = ta.bbands(close = chk1['Close'], length=20, std=2)['BBM_20_2.0']"
   ]
  },
  {
   "cell_type": "code",
   "execution_count": 68,
   "id": "dcd275cc",
   "metadata": {},
   "outputs": [],
   "source": [
    "chk1['changeover'] = np.insert(np.diff(np.where(chk1['super_trend_color'] == 'green' , 1 , 0)),0,0)\n",
    "chk1['condition'] = np.insert(np.diff(np.where((chk1['BBM'] < chk1['smma']) & (chk1['smma'] < chk1['dema']) ,1,0)),0,0)\n",
    " # np.where(chk1['changeover'] == 1 & chk1['condition'] == 1)"
   ]
  },
  {
   "cell_type": "code",
   "execution_count": 69,
   "id": "d61a1883",
   "metadata": {},
   "outputs": [],
   "source": [
    "chk1 = chk1.iloc[np.where(((chk1['changeover'] == 1) & (chk1['condition'] == 1)))] "
   ]
  },
  {
   "cell_type": "code",
   "execution_count": 70,
   "id": "6bb920d7",
   "metadata": {},
   "outputs": [
    {
     "data": {
      "text/html": [
       "<div>\n",
       "<style scoped>\n",
       "    .dataframe tbody tr th:only-of-type {\n",
       "        vertical-align: middle;\n",
       "    }\n",
       "\n",
       "    .dataframe tbody tr th {\n",
       "        vertical-align: top;\n",
       "    }\n",
       "\n",
       "    .dataframe thead th {\n",
       "        text-align: right;\n",
       "    }\n",
       "</style>\n",
       "<table border=\"1\" class=\"dataframe\">\n",
       "  <thead>\n",
       "    <tr style=\"text-align: right;\">\n",
       "      <th></th>\n",
       "      <th>datetime</th>\n",
       "      <th>Open</th>\n",
       "      <th>Low</th>\n",
       "      <th>High</th>\n",
       "      <th>Close</th>\n",
       "      <th>smma</th>\n",
       "      <th>rsi</th>\n",
       "      <th>dema</th>\n",
       "      <th>super_trend</th>\n",
       "      <th>super_trend_color</th>\n",
       "      <th>BBM</th>\n",
       "      <th>changeover</th>\n",
       "      <th>condition</th>\n",
       "    </tr>\n",
       "  </thead>\n",
       "  <tbody>\n",
       "  </tbody>\n",
       "</table>\n",
       "</div>"
      ],
      "text/plain": [
       "Empty DataFrame\n",
       "Columns: [datetime, Open, Low, High, Close, smma, rsi, dema, super_trend, super_trend_color, BBM, changeover, condition]\n",
       "Index: []"
      ]
     },
     "execution_count": 70,
     "metadata": {},
     "output_type": "execute_result"
    }
   ],
   "source": [
    "chk1"
   ]
  }
 ],
 "metadata": {
  "kernelspec": {
   "display_name": "Python 3",
   "language": "python",
   "name": "python3"
  },
  "language_info": {
   "codemirror_mode": {
    "name": "ipython",
    "version": 3
   },
   "file_extension": ".py",
   "mimetype": "text/x-python",
   "name": "python",
   "nbconvert_exporter": "python",
   "pygments_lexer": "ipython3",
   "version": "3.12.1"
  }
 },
 "nbformat": 4,
 "nbformat_minor": 5
}
