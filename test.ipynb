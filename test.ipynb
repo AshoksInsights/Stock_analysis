{
 "cells": [
  {
   "cell_type": "code",
   "execution_count": null,
   "id": "b388dcee",
   "metadata": {},
   "outputs": [],
   "source": [
    "# Replace with your Fyers App details\n",
    "client_id = \"YOUR_CLIENT_ID\"       # e.g., ABC123-100\n",
    "redirect_uri = \"YOUR_REDIRECT_URI\" # e.g., http://localhost:8000/callback\n",
    "response_type = \"code\"\n",
    "\n",
    "# Your login credentials\n",
    "username = \"your_fyers_username\"\n",
    "password = \"your_fyers_password\"\n",
    "pin = \"your_6_digit_pin\"\n",
    "\n",
    "# Build the login URL\n",
    "auth_url = f\"https://api.fyers.in/api/v2/generate-authcode?client_id={client_id}&redirect_uri={redirect_uri}&response_type={response_type}&state=sample\"\n",
    "\n",
    "# Set up Selenium\n",
    "driver = webdriver.Chrome()  # You can specify the path to chromedriver if needed\n",
    "driver.get(auth_url)\n",
    "\n",
    "# Let the page load\n",
    "time.sleep(2)\n",
    "\n",
    "# Enter username\n",
    "driver.find_element(By.ID, \"login_email\").send_keys(username)\n",
    "driver.find_element(By.ID, \"submitBtn\").click()\n",
    "\n",
    "time.sleep(2)\n",
    "\n",
    "# Enter password\n",
    "driver.find_element(By.ID, \"login_password\").send_keys(password)\n",
    "driver.find_element(By.ID, \"submitBtn\").click()\n",
    "\n",
    "time.sleep(2)\n",
    "\n",
    "# Enter PIN\n",
    "for i, digit in enumerate(pin):\n",
    "    driver.find_element(By.ID, f\"pin{i+1}\").send_keys(digit)\n",
    "\n",
    "driver.find_element(By.ID, \"submitBtn\").click()\n",
    "\n",
    "# Wait for redirect\n",
    "time.sleep(3)\n",
    "\n",
    "# Capture the redirect URL\n",
    "redirected_url = driver.current_url\n",
    "driver.quit()\n",
    "\n",
    "# Extract the auth_code from the URL\n",
    "parsed_url = urllib.parse.urlparse(redirected_url)\n",
    "auth_code = urllib.parse.parse_qs(parsed_url.query).get(\"auth_code\", [None])[0]\n",
    "\n",
    "print(\"Auth Code:\", auth_code)"
   ]
  },
  {
   "cell_type": "code",
   "execution_count": 3,
   "id": "407a429e",
   "metadata": {},
   "outputs": [],
   "source": [
    "from selenium import webdriver\n",
    "from selenium.webdriver.common.by import By\n",
    "import time\n",
    "import urllib.parse"
   ]
  },
  {
   "cell_type": "code",
   "execution_count": 4,
   "id": "ff28d675",
   "metadata": {},
   "outputs": [],
   "source": [
    "client_id = \"IHVGT4TRNZ-100\"       # e.g., ABC123-100\n",
    "redirect_uri = \"http://127.0.0.1:8080/\" # e.g., http://localhost:8000/callback\n",
    "response_type = \"code\""
   ]
  },
  {
   "cell_type": "code",
   "execution_count": 5,
   "id": "c61291dc",
   "metadata": {},
   "outputs": [],
   "source": [
    "username = \" YJ08526\"\n",
    "# password = \"your_fyers_password\"\n",
    "pin = \"7776\"\n",
    "\n",
    "# Build the login URL\n",
    "auth_url = f\"https://api.fyers.in/api/v2/generate-authcode?client_id={client_id}&redirect_uri={redirect_uri}&response_type={response_type}&state=sample\"\n"
   ]
  },
  {
   "cell_type": "code",
   "execution_count": null,
   "id": "e15e670b",
   "metadata": {},
   "outputs": [],
   "source": [
    "driver = webdriver.Chrome()  # You can specify the path to chromedriver if needed\n",
    "driver.get(auth_url)"
   ]
  },
  {
   "cell_type": "code",
   "execution_count": 4,
   "id": "dca81ad3",
   "metadata": {},
   "outputs": [],
   "source": [
    "client_id = 'ETYHMVN1Q6-100'\n",
    "secret_key = 'I0CJUFFA03'\n",
    "redirect_uri = 'https://www.google.com/'\n",
    "response_type = 'code'\n",
    "state = 'sample_state'"
   ]
  },
  {
   "cell_type": "code",
   "execution_count": 3,
   "id": "65039c95",
   "metadata": {},
   "outputs": [],
   "source": [
    "from fyers_apiv3 import fyersModel"
   ]
  },
  {
   "cell_type": "code",
   "execution_count": 5,
   "id": "833dff64",
   "metadata": {},
   "outputs": [],
   "source": [
    "session = fyersModel.SessionModel(\n",
    "    client_id= client_id,\n",
    "    secret_key= secret_key,\n",
    "    redirect_uri= redirect_uri,\n",
    "    response_type= response_type\n",
    ")"
   ]
  },
  {
   "cell_type": "code",
   "execution_count": 19,
   "id": "bc095257",
   "metadata": {},
   "outputs": [],
   "source": [
    "response = session.generate_authcode()"
   ]
  },
  {
   "cell_type": "code",
   "execution_count": 20,
   "id": "a0d0f165",
   "metadata": {},
   "outputs": [
    {
     "name": "stdout",
     "output_type": "stream",
     "text": [
      "https://api-t1.fyers.in/api/v3/generate-authcode?client_id=ETYHMVN1Q6-100&redirect_uri=https%3A%2F%2Fwww.google.com%2F&response_type=code&state=None\n"
     ]
    }
   ],
   "source": [
    "print(response)"
   ]
  },
  {
   "cell_type": "code",
   "execution_count": 12,
   "id": "fb6a8f85",
   "metadata": {},
   "outputs": [],
   "source": [
    "uri = 'https://www.google.com/?s=ok&code=200&auth_code=eyJhbGciOiJIUzI1NiIsInR5cCI6IkpXVCJ9.eyJhcHBfaWQiOiJFVFlITVZOMVE2IiwidXVpZCI6IjczYzllM2FhNWY5ZjQyMjNhMmJkZTc4MmQxNWRhOWFlIiwiaXBBZGRyIjoiIiwibm9uY2UiOiIiLCJzY29wZSI6IiIsImRpc3BsYXlfbmFtZSI6IllKMDg1MjYiLCJvbXMiOiJLMSIsImhzbV9rZXkiOiJiZmIzZWQxZWE5ZmQwOGIzNzA1NGJlNmM1YmZjYzJiMDg1MmI4Mjg1ZDVmMWNmMGEyYWM0YTdkMyIsImlzRGRwaUVuYWJsZWQiOiJOIiwiaXNNdGZFbmFibGVkIjoiTiIsImF1ZCI6IltcImQ6MVwiLFwiZDoyXCIsXCJ4OjBcIixcIng6MVwiLFwieDoyXCJdIiwiZXhwIjoxNzQ0NTEwMjE1LCJpYXQiOjE3NDQ0ODAyMTUsImlzcyI6ImFwaS5sb2dpbi5meWVycy5pbiIsIm5iZiI6MTc0NDQ4MDIxNSwic3ViIjoiYXV0aF9jb2RlIn0.QHgrWlLqz-DqNLdSnyT1IR2Em421A9reNdZhnSMEdvM&state=None'"
   ]
  },
  {
   "cell_type": "code",
   "execution_count": 17,
   "id": "fe17fa0b",
   "metadata": {},
   "outputs": [],
   "source": [
    "auth = uri.split('auth_code=')[1].split('&state')[0]"
   ]
  },
  {
   "cell_type": "code",
   "execution_count": 18,
   "id": "af492e8f",
   "metadata": {},
   "outputs": [
    {
     "data": {
      "text/plain": [
       "'eyJhbGciOiJIUzI1NiIsInR5cCI6IkpXVCJ9.eyJhcHBfaWQiOiJFVFlITVZOMVE2IiwidXVpZCI6IjczYzllM2FhNWY5ZjQyMjNhMmJkZTc4MmQxNWRhOWFlIiwiaXBBZGRyIjoiIiwibm9uY2UiOiIiLCJzY29wZSI6IiIsImRpc3BsYXlfbmFtZSI6IllKMDg1MjYiLCJvbXMiOiJLMSIsImhzbV9rZXkiOiJiZmIzZWQxZWE5ZmQwOGIzNzA1NGJlNmM1YmZjYzJiMDg1MmI4Mjg1ZDVmMWNmMGEyYWM0YTdkMyIsImlzRGRwaUVuYWJsZWQiOiJOIiwiaXNNdGZFbmFibGVkIjoiTiIsImF1ZCI6IltcImQ6MVwiLFwiZDoyXCIsXCJ4OjBcIixcIng6MVwiLFwieDoyXCJdIiwiZXhwIjoxNzQ0NTEwMjE1LCJpYXQiOjE3NDQ0ODAyMTUsImlzcyI6ImFwaS5sb2dpbi5meWVycy5pbiIsIm5iZiI6MTc0NDQ4MDIxNSwic3ViIjoiYXV0aF9jb2RlIn0.QHgrWlLqz-DqNLdSnyT1IR2Em421A9reNdZhnSMEdvM'"
      ]
     },
     "execution_count": 18,
     "metadata": {},
     "output_type": "execute_result"
    }
   ],
   "source": [
    "auth"
   ]
  }
 ],
 "metadata": {
  "kernelspec": {
   "display_name": "Python 3",
   "language": "python",
   "name": "python3"
  },
  "language_info": {
   "codemirror_mode": {
    "name": "ipython",
    "version": 3
   },
   "file_extension": ".py",
   "mimetype": "text/x-python",
   "name": "python",
   "nbconvert_exporter": "python",
   "pygments_lexer": "ipython3",
   "version": "3.12.1"
  }
 },
 "nbformat": 4,
 "nbformat_minor": 5
}
