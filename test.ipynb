{
 "cells": [
  {
   "cell_type": "code",
   "execution_count": 1,
   "id": "f53a8d03",
   "metadata": {},
   "outputs": [],
   "source": [
    "from fyers_apiv3 import fyersModel\n",
    "import pandas as pd\n",
    "from fyers_apiv3.FyersWebsocket import data_ws\n",
    "import datetime as dt\n",
    "import time \n",
    "import numpy as np\n",
    "import math\n",
    "import json\n",
    "import pyotp\n",
    "from urllib import parse\n",
    "import sys\n",
    "from datetime import datetime, timedelta\n",
    "import pandas_ta as ta\n",
    "import matplotlib.pyplot as plt\n",
    "import requests\n",
    "\n"
   ]
  },
  {
   "cell_type": "code",
   "execution_count": null,
   "id": "4264809a",
   "metadata": {},
   "outputs": [],
   "source": [
    "import pandas as pd \n",
    "import numpy as np\n",
    "import datetime\n",
    "import Analysis\n",
    "import pandas_ta as ta\n",
    "from nselib import capital_market\n",
    "from nselib import derivatives\n",
    "import yfinance as yf"
   ]
  },
  {
   "cell_type": "code",
   "execution_count": 2,
   "id": "531c8e51",
   "metadata": {},
   "outputs": [],
   "source": [
    "FY_ID = \"YJ08526\"\n",
    "APP_ID_TYPE = \"2\"\n",
    "TOTP_KEY = \"W3UOSVQQO2V4KJT3RRXYJDHFBKP3372N\"\n",
    "PIN = \"7776\"\n",
    "APP_ID = \"ETYHMVN1Q6\"\n",
    "REDIRECT_URI = \"https://www.google.com/\"\n",
    "APP_TYPE = \"100\"\n",
    "APP_ID_HASH = 'dc1cd1f989e67ad53623c26ac48315e1e88ed60bdd58a2cbc12ea294c248d3db'\n",
    "response_type = \"code\"\n",
    "grant_type = \"authorization_code\"\n",
    "\n",
    "BASE_URL = \"https://api-t2.fyers.in/vagator/v2\"\n",
    "BASE_URL_2 = \"https://api-t1.fyers.in/api/v3\"\n",
    "URL_SEND_LOGIN_OTP = BASE_URL + \"/send_login_otp\"\n",
    "URL_VERIFY_TOTP = BASE_URL + \"/verify_otp\"\n",
    "URL_VERIFY_PIN = BASE_URL + \"/verify_pin\"\n",
    "URL_TOKEN = BASE_URL_2 + \"/token\"\n",
    "URL_VALIDATE_AUTH_CODE = BASE_URL_2 + \"/validate-authcode\"\n",
    "\n",
    "SUCCESS = 1\n",
    "ERROR = -1"
   ]
  },
  {
   "cell_type": "code",
   "execution_count": 3,
   "id": "17389352",
   "metadata": {},
   "outputs": [],
   "source": [
    "def verify_client_id(CLIENT_ID,app_id):\n",
    "    try:\n",
    "        payload = {\n",
    "            \"fy_id\": CLIENT_ID,\n",
    "            \"app_id\": app_id\n",
    "        }\n",
    "\n",
    "        result_string = requests.post(url=URL_SEND_LOGIN_OTP, json=payload)\n",
    "        # print(\"result_string : \", result_string.text)\n",
    "        if result_string.status_code != 200:\n",
    "            return [ERROR, result_string.text]\n",
    "\n",
    "        result = json.loads(result_string.text)\n",
    "        request_key = result[\"request_key\"]\n",
    "\n",
    "        return [SUCCESS, request_key]\n",
    "    \n",
    "    except Exception as e:\n",
    "        return [ERROR, e]"
   ]
  },
  {
   "cell_type": "code",
   "execution_count": 4,
   "id": "084e16c0",
   "metadata": {},
   "outputs": [],
   "source": [
    "def generate_totp(TOTP_KEY):\n",
    "    try:\n",
    "        generated_totp = pyotp.TOTP(TOTP_KEY).now()\n",
    "        return [SUCCESS, generated_totp]\n",
    "    \n",
    "    except Exception as e:\n",
    "        return [ERROR, e]"
   ]
  },
  {
   "cell_type": "code",
   "execution_count": 14,
   "id": "f149195b",
   "metadata": {},
   "outputs": [],
   "source": [
    "def verify_totp(request_key, totp):\n",
    "    try:\n",
    "        payload = {\n",
    "            \"request_key\": request_key,\n",
    "            \"otp\": totp\n",
    "        }\n",
    "\n",
    "        result_string = requests.post(url=URL_VERIFY_TOTP, json=payload)\n",
    "        if result_string.status_code != 200:\n",
    "            return [ERROR, result_string.text]\n",
    "\n",
    "        result = json.loads(result_string.text)\n",
    "        request_key = result[\"request_key\"]\n",
    "\n",
    "        return [SUCCESS, request_key]\n",
    "    \n",
    "    except Exception as e:\n",
    "        return [ERROR, e]"
   ]
  },
  {
   "cell_type": "code",
   "execution_count": 5,
   "id": "7e692948",
   "metadata": {},
   "outputs": [],
   "source": [
    "def verify_PIN(request_key, pin):\n",
    "    try:\n",
    "        payload = {\n",
    "            \"request_key\": request_key,\n",
    "            \"identity_type\": \"pin\",\n",
    "            \"identifier\": pin\n",
    "        }\n",
    "\n",
    "        result_string = requests.post(url=URL_VERIFY_PIN, json=payload)\n",
    "        if result_string.status_code != 200:\n",
    "            return [ERROR, result_string.text]\n",
    "    \n",
    "        result = json.loads(result_string.text)\n",
    "        access_token = result[\"data\"][\"access_token\"]\n",
    "\n",
    "        return [SUCCESS, access_token]\n",
    "    \n",
    "    except Exception as e:\n",
    "        return [ERROR, e]"
   ]
  },
  {
   "cell_type": "code",
   "execution_count": 6,
   "id": "f24cb5a6",
   "metadata": {},
   "outputs": [],
   "source": [
    "\n",
    "def token(fy_id, app_id, redirect_uri, app_type, access_token):\n",
    "    try:\n",
    "        payload = {\n",
    "            \"fyers_id\": fy_id,\n",
    "            \"app_id\": app_id,\n",
    "            \"redirect_uri\": redirect_uri,\n",
    "            \"appType\": app_type,\n",
    "            \"code_challenge\": \"\",\n",
    "            \"state\": \"sample_state\",\n",
    "            \"scope\": \"\",\n",
    "            \"nonce\": \"\",\n",
    "            \"response_type\": \"code\",\n",
    "            \"create_cookie\": True\n",
    "        }\n",
    "        headers={'Authorization': f'Bearer {access_token}'}\n",
    "\n",
    "        result_string = requests.post(\n",
    "            url=URL_TOKEN, json=payload, headers=headers\n",
    "        )\n",
    "\n",
    "        if result_string.status_code != 308:\n",
    "            return [ERROR, result_string.text]\n",
    "\n",
    "        result = json.loads(result_string.text)\n",
    "        url = result[\"Url\"]\n",
    "        auth_code = parse.parse_qs(parse.urlparse(url).query)['auth_code'][0]\n",
    "\n",
    "        return [SUCCESS, auth_code]\n",
    "    \n",
    "    except Exception as e:\n",
    "        return [ERROR, e]"
   ]
  },
  {
   "cell_type": "code",
   "execution_count": 7,
   "id": "fdf5bef1",
   "metadata": {},
   "outputs": [],
   "source": [
    "def validate_authcode(auth_code):\n",
    "    try:\n",
    "        payload = {\n",
    "            \"grant_type\": \"authorization_code\",\n",
    "            \"appIdHash\": APP_ID_HASH,\n",
    "            \"code\": auth_code,\n",
    "        }\n",
    "\n",
    "        result_string = requests.post(url=URL_VALIDATE_AUTH_CODE, json=payload)\n",
    "        if result_string.status_code != 200:\n",
    "            return [ERROR, result_string.text]\n",
    "\n",
    "        result = json.loads(result_string.text)\n",
    "        access_token = result[\"access_token\"]\n",
    "\n",
    "        return [SUCCESS, access_token]\n",
    "    \n",
    "    except Exception as e:\n",
    "        return [ERROR, e]"
   ]
  },
  {
   "cell_type": "code",
   "execution_count": 21,
   "id": "0b3087a1",
   "metadata": {},
   "outputs": [],
   "source": [
    "def main():\n",
    "    # Step 1 - Retrieve request_key from verify_client_id Function\n",
    "    verify_client_id_result = verify_client_id(FY_ID,APP_ID)\n",
    "    if verify_client_id_result[0] != SUCCESS:\n",
    "        print(f\"verify_client_id failure - {verify_client_id_result[1]}\")\n",
    "        sys.exit()\n",
    "    else:\n",
    "        print(\"verify_client_id success\")\n",
    "\n",
    "    # Step 2 - Generate totp\n",
    "    generate_totp_result = generate_totp(TOTP_KEY)\n",
    "    if generate_totp_result[0] != SUCCESS:\n",
    "        print(f\"generate_totp failure - {generate_totp_result[1]}\")\n",
    "        sys.exit()\n",
    "    else:\n",
    "        print(\"generate_totp success\")\n",
    "\n",
    "    # Step 3 - Verify totp and get request key from verify_totp Function.\n",
    "    request_key = verify_client_id_result[1]\n",
    "    totp = generate_totp_result[1]\n",
    "    verify_totp_result = verify_totp(request_key=request_key, totp=totp)\n",
    "    if verify_totp_result[0] != SUCCESS:\n",
    "        print(f\"verify_totp_result failure - {verify_totp_result}\")\n",
    "        sys.exit()\n",
    "    else:\n",
    "        print(\"verify_totp_result success\")\n",
    "\n",
    "    # Step 4 - Verify pin and send back access token\n",
    "    request_key_2 = verify_totp_result[1]\n",
    "    verify_pin_result = verify_PIN(request_key=request_key_2, pin=PIN)\n",
    "    if verify_pin_result[0] != SUCCESS:\n",
    "        print(f\"verify_pin_result failure - {verify_pin_result[1]}\")\n",
    "        sys.exit()\n",
    "    else:\n",
    "        print(\"verify_pin_result success\")\n",
    "\n",
    "    # Step 5 - Get auth code for API V3 App from trade access token\n",
    "    token_result = token(\n",
    "        fy_id=FY_ID, app_id=APP_ID, redirect_uri=REDIRECT_URI, app_type=APP_TYPE,\n",
    "        access_token=verify_pin_result[1]\n",
    "    )\n",
    "    if token_result[0] != SUCCESS:\n",
    "        print(f\"token_result failure - {token_result[1]}\")\n",
    "        sys.exit()\n",
    "    else:\n",
    "        print(\"token_result success\")\n",
    "\n",
    "    # Step 6 - Get API V3 access token from validating auth code\n",
    "    auth_code = token_result[1]\n",
    "    validate_authcode_result = validate_authcode(auth_code=auth_code)\n",
    "    if token_result[0] != SUCCESS:\n",
    "        print(f\"validate_authcode failure - {validate_authcode_result[1]}\")\n",
    "        sys.exit()\n",
    "    else:\n",
    "        print(\"validate_authcode success\")\n",
    "    \n",
    "    access_token = APP_ID + \"-\" + APP_TYPE + \":\" + validate_authcode_result[1]\n",
    "\n",
    "    print(f\"\\naccess_token - {access_token}\\n\")\n",
    "\n",
    "    return access_token\n",
    "    "
   ]
  },
  {
   "cell_type": "code",
   "execution_count": 22,
   "id": "c32513c9",
   "metadata": {},
   "outputs": [
    {
     "name": "stdout",
     "output_type": "stream",
     "text": [
      "verify_client_id success\n",
      "generate_totp success\n",
      "verify_totp_result success\n",
      "verify_pin_result success\n",
      "token_result success\n",
      "validate_authcode success\n",
      "\n",
      "access_token - ETYHMVN1Q6-100:eyJhbGciOiJIUzI1NiIsInR5cCI6IkpXVCJ9.eyJhdWQiOlsiZDoxIiwiZDoyIiwieDowIiwieDoxIiwieDoyIl0sImF0X2hhc2giOiJnQUFBQUFCb0JLMS1OQ0lXUGFzcldjLU8zelBGamQwTTlMWXJtNlljalB4eHM2eVp2NFZBLTZMVDl1QVlHZmhJdFpwQmFVS243SUxweG43RXFXZjdRUUNIYTBUS3NPb2Zack9OWWVSemg1R01vM0tTa1NvSVFvMD0iLCJkaXNwbGF5X25hbWUiOiIiLCJvbXMiOiJLMSIsImhzbV9rZXkiOiJkOWE5ZDc2MWI2MzM0M2IzMGQ0NGVhNzQ5ZjAyNWFmMTZiZWNlODZlMjc5Mjg3NTc3ZmRlYTVlMCIsImlzRGRwaUVuYWJsZWQiOiJOIiwiaXNNdGZFbmFibGVkIjoiTiIsImZ5X2lkIjoiWUowODUyNiIsImFwcFR5cGUiOjEwMCwiZXhwIjoxNzQ1MTk1NDAwLCJpYXQiOjE3NDUxMzcwMjIsImlzcyI6ImFwaS5meWVycy5pbiIsIm5iZiI6MTc0NTEzNzAyMiwic3ViIjoiYWNjZXNzX3Rva2VuIn0.IdqaWWGayx00hGrq3vH5yNnZWJ2Pvs4ikO2Pf6qKmMU\n",
      "\n"
     ]
    },
    {
     "data": {
      "text/plain": [
       "'ETYHMVN1Q6-100:eyJhbGciOiJIUzI1NiIsInR5cCI6IkpXVCJ9.eyJhdWQiOlsiZDoxIiwiZDoyIiwieDowIiwieDoxIiwieDoyIl0sImF0X2hhc2giOiJnQUFBQUFCb0JLMS1OQ0lXUGFzcldjLU8zelBGamQwTTlMWXJtNlljalB4eHM2eVp2NFZBLTZMVDl1QVlHZmhJdFpwQmFVS243SUxweG43RXFXZjdRUUNIYTBUS3NPb2Zack9OWWVSemg1R01vM0tTa1NvSVFvMD0iLCJkaXNwbGF5X25hbWUiOiIiLCJvbXMiOiJLMSIsImhzbV9rZXkiOiJkOWE5ZDc2MWI2MzM0M2IzMGQ0NGVhNzQ5ZjAyNWFmMTZiZWNlODZlMjc5Mjg3NTc3ZmRlYTVlMCIsImlzRGRwaUVuYWJsZWQiOiJOIiwiaXNNdGZFbmFibGVkIjoiTiIsImZ5X2lkIjoiWUowODUyNiIsImFwcFR5cGUiOjEwMCwiZXhwIjoxNzQ1MTk1NDAwLCJpYXQiOjE3NDUxMzcwMjIsImlzcyI6ImFwaS5meWVycy5pbiIsIm5iZiI6MTc0NTEzNzAyMiwic3ViIjoiYWNjZXNzX3Rva2VuIn0.IdqaWWGayx00hGrq3vH5yNnZWJ2Pvs4ikO2Pf6qKmMU'"
      ]
     },
     "execution_count": 22,
     "metadata": {},
     "output_type": "execute_result"
    }
   ],
   "source": [
    "main()"
   ]
  },
  {
   "cell_type": "code",
   "execution_count": 23,
   "id": "7ca5ad59",
   "metadata": {},
   "outputs": [
    {
     "name": "stdout",
     "output_type": "stream",
     "text": [
      "verify_client_id success\n",
      "generate_totp success\n",
      "verify_totp_result success\n",
      "verify_pin_result success\n",
      "token_result success\n",
      "validate_authcode success\n",
      "\n",
      "access_token - ETYHMVN1Q6-100:eyJhbGciOiJIUzI1NiIsInR5cCI6IkpXVCJ9.eyJhdWQiOlsiZDoxIiwiZDoyIiwieDowIiwieDoxIiwieDoyIl0sImF0X2hhc2giOiJnQUFBQUFCb0JLMkJVSFJ0dUh2MW5BTzkzY0hxdWpmWmpCejFmeFdlV3RmcUtzUTZWX19peXZDdmpibFBabWVUdkc0UUp2MjRWdlJaNlBNNTkyV1lYMkViRXduSXE5TVU5eXdob0g1cFI3Ml9FeGk0bV96RTRFST0iLCJkaXNwbGF5X25hbWUiOiIiLCJvbXMiOiJLMSIsImhzbV9rZXkiOiI3NTU2N2IzODdhYzg5YTJmNzExMjY1ZjMyMjljMzhiZTFlYWE2ODBhZDVkZDA3ZGU0M2Y4ZDQ5MCIsImlzRGRwaUVuYWJsZWQiOiJOIiwiaXNNdGZFbmFibGVkIjoiTiIsImZ5X2lkIjoiWUowODUyNiIsImFwcFR5cGUiOjEwMCwiZXhwIjoxNzQ1MTk1NDAwLCJpYXQiOjE3NDUxMzcwMjUsImlzcyI6ImFwaS5meWVycy5pbiIsIm5iZiI6MTc0NTEzNzAyNSwic3ViIjoiYWNjZXNzX3Rva2VuIn0.Ey-w2K_EdH4XfWQgjuHpWMn_RX5k-UwwZRkNVQ7CE18\n",
      "\n"
     ]
    }
   ],
   "source": [
    "access_token = main()\n",
    "data = {\"access_token\": access_token}\n",
    "with open('access_token.json', 'w') as json_file:\n",
    "    json.dump(data, json_file)"
   ]
  },
  {
   "cell_type": "code",
   "execution_count": null,
   "id": "bb7290a8",
   "metadata": {},
   "outputs": [],
   "source": []
  },
  {
   "cell_type": "code",
   "execution_count": null,
   "id": "ef026d08",
   "metadata": {},
   "outputs": [],
   "source": [
    "client_id = 'ETYHMVN1Q6-100'\n",
    "secret_key = 'I0CJUFFA03'\n",
    "redirect_uri = 'https://www.google.com/'\n",
    "response_type = 'code'\n",
    "state = 'sample_state'\n",
    "user_name = 'YJ08526'\n",
    "APPID_HASH = 'dc1cd1f989e67ad53623c26ac48315e1e88ed60bdd58a2cbc12ea294c248d3db'"
   ]
  },
  {
   "cell_type": "code",
   "execution_count": 3,
   "id": "833dff64",
   "metadata": {},
   "outputs": [],
   "source": [
    "session = fyersModel.SessionModel(\n",
    "    client_id= client_id,\n",
    "    secret_key= secret_key,\n",
    "    redirect_uri= redirect_uri,\n",
    "    response_type= response_type\n",
    ")"
   ]
  },
  {
   "cell_type": "code",
   "execution_count": 4,
   "id": "bc095257",
   "metadata": {},
   "outputs": [],
   "source": [
    "response = session.generate_authcode()"
   ]
  },
  {
   "cell_type": "code",
   "execution_count": 5,
   "id": "a0d0f165",
   "metadata": {},
   "outputs": [
    {
     "name": "stdout",
     "output_type": "stream",
     "text": [
      "https://api-t1.fyers.in/api/v3/generate-authcode?client_id=ETYHMVN1Q6-100&redirect_uri=https%3A%2F%2Fwww.google.com%2F&response_type=code&state=None\n"
     ]
    }
   ],
   "source": [
    "print(response)"
   ]
  },
  {
   "cell_type": "code",
   "execution_count": 6,
   "id": "c6daf048",
   "metadata": {},
   "outputs": [],
   "source": [
    "link = response "
   ]
  },
  {
   "cell_type": "code",
   "execution_count": 11,
   "id": "5797348b",
   "metadata": {},
   "outputs": [
    {
     "ename": "SessionNotCreatedException",
     "evalue": "Message: session not created: probably user data directory is already in use, please specify a unique value for --user-data-dir argument, or don't use --user-data-dir\nStacktrace:\n#0 0x55c57e415d0a <unknown>\n#1 0x55c57dec65f0 <unknown>\n#2 0x55c57df000db <unknown>\n#3 0x55c57defbe2f <unknown>\n#4 0x55c57df4bf9e <unknown>\n#5 0x55c57df4b4c6 <unknown>\n#6 0x55c57df3d433 <unknown>\n#7 0x55c57df09ea3 <unknown>\n#8 0x55c57df0ab01 <unknown>\n#9 0x55c57e3dab5b <unknown>\n#10 0x55c57e3dea41 <unknown>\n#11 0x55c57e3c1c52 <unknown>\n#12 0x55c57e3df5b4 <unknown>\n#13 0x55c57e3a5f0f <unknown>\n#14 0x55c57e403db8 <unknown>\n#15 0x55c57e403f96 <unknown>\n#16 0x55c57e414b56 <unknown>\n#17 0x73695022a609 start_thread\n",
     "output_type": "error",
     "traceback": [
      "\u001b[31m---------------------------------------------------------------------------\u001b[39m",
      "\u001b[31mSessionNotCreatedException\u001b[39m                Traceback (most recent call last)",
      "\u001b[36mCell\u001b[39m\u001b[36m \u001b[39m\u001b[32mIn[11]\u001b[39m\u001b[32m, line 12\u001b[39m\n\u001b[32m      8\u001b[39m options = webdriver.ChromeOptions()\n\u001b[32m      9\u001b[39m \u001b[38;5;66;03m# Remove the user-data-dir argument\u001b[39;00m\n\u001b[32m     10\u001b[39m \u001b[38;5;66;03m# options.add_argument(\"--user-data-dir=/workspaces/Stock_analysis\")\u001b[39;00m\n\u001b[32m---> \u001b[39m\u001b[32m12\u001b[39m driver = \u001b[43mwebdriver\u001b[49m\u001b[43m.\u001b[49m\u001b[43mChrome\u001b[49m\u001b[43m(\u001b[49m\u001b[43moptions\u001b[49m\u001b[43m=\u001b[49m\u001b[43moptions\u001b[49m\u001b[43m)\u001b[49m\n\u001b[32m     15\u001b[39m \u001b[38;5;66;03m# driver = webdriver.Chrome()\u001b[39;00m\n\u001b[32m     16\u001b[39m driver.get(link)\n",
      "\u001b[36mFile \u001b[39m\u001b[32m/usr/local/python/3.12.1/lib/python3.12/site-packages/selenium/webdriver/chrome/webdriver.py:45\u001b[39m, in \u001b[36mWebDriver.__init__\u001b[39m\u001b[34m(self, options, service, keep_alive)\u001b[39m\n\u001b[32m     42\u001b[39m service = service \u001b[38;5;28;01mif\u001b[39;00m service \u001b[38;5;28;01melse\u001b[39;00m Service()\n\u001b[32m     43\u001b[39m options = options \u001b[38;5;28;01mif\u001b[39;00m options \u001b[38;5;28;01melse\u001b[39;00m Options()\n\u001b[32m---> \u001b[39m\u001b[32m45\u001b[39m \u001b[38;5;28;43msuper\u001b[39;49m\u001b[43m(\u001b[49m\u001b[43m)\u001b[49m\u001b[43m.\u001b[49m\u001b[34;43m__init__\u001b[39;49m\u001b[43m(\u001b[49m\n\u001b[32m     46\u001b[39m \u001b[43m    \u001b[49m\u001b[43mbrowser_name\u001b[49m\u001b[43m=\u001b[49m\u001b[43mDesiredCapabilities\u001b[49m\u001b[43m.\u001b[49m\u001b[43mCHROME\u001b[49m\u001b[43m[\u001b[49m\u001b[33;43m\"\u001b[39;49m\u001b[33;43mbrowserName\u001b[39;49m\u001b[33;43m\"\u001b[39;49m\u001b[43m]\u001b[49m\u001b[43m,\u001b[49m\n\u001b[32m     47\u001b[39m \u001b[43m    \u001b[49m\u001b[43mvendor_prefix\u001b[49m\u001b[43m=\u001b[49m\u001b[33;43m\"\u001b[39;49m\u001b[33;43mgoog\u001b[39;49m\u001b[33;43m\"\u001b[39;49m\u001b[43m,\u001b[49m\n\u001b[32m     48\u001b[39m \u001b[43m    \u001b[49m\u001b[43moptions\u001b[49m\u001b[43m=\u001b[49m\u001b[43moptions\u001b[49m\u001b[43m,\u001b[49m\n\u001b[32m     49\u001b[39m \u001b[43m    \u001b[49m\u001b[43mservice\u001b[49m\u001b[43m=\u001b[49m\u001b[43mservice\u001b[49m\u001b[43m,\u001b[49m\n\u001b[32m     50\u001b[39m \u001b[43m    \u001b[49m\u001b[43mkeep_alive\u001b[49m\u001b[43m=\u001b[49m\u001b[43mkeep_alive\u001b[49m\u001b[43m,\u001b[49m\n\u001b[32m     51\u001b[39m \u001b[43m\u001b[49m\u001b[43m)\u001b[49m\n",
      "\u001b[36mFile \u001b[39m\u001b[32m/usr/local/python/3.12.1/lib/python3.12/site-packages/selenium/webdriver/chromium/webdriver.py:66\u001b[39m, in \u001b[36mChromiumDriver.__init__\u001b[39m\u001b[34m(self, browser_name, vendor_prefix, options, service, keep_alive)\u001b[39m\n\u001b[32m     57\u001b[39m executor = ChromiumRemoteConnection(\n\u001b[32m     58\u001b[39m     remote_server_addr=\u001b[38;5;28mself\u001b[39m.service.service_url,\n\u001b[32m     59\u001b[39m     browser_name=browser_name,\n\u001b[32m   (...)\u001b[39m\u001b[32m     62\u001b[39m     ignore_proxy=options._ignore_local_proxy,\n\u001b[32m     63\u001b[39m )\n\u001b[32m     65\u001b[39m \u001b[38;5;28;01mtry\u001b[39;00m:\n\u001b[32m---> \u001b[39m\u001b[32m66\u001b[39m     \u001b[38;5;28;43msuper\u001b[39;49m\u001b[43m(\u001b[49m\u001b[43m)\u001b[49m\u001b[43m.\u001b[49m\u001b[34;43m__init__\u001b[39;49m\u001b[43m(\u001b[49m\u001b[43mcommand_executor\u001b[49m\u001b[43m=\u001b[49m\u001b[43mexecutor\u001b[49m\u001b[43m,\u001b[49m\u001b[43m \u001b[49m\u001b[43moptions\u001b[49m\u001b[43m=\u001b[49m\u001b[43moptions\u001b[49m\u001b[43m)\u001b[49m\n\u001b[32m     67\u001b[39m \u001b[38;5;28;01mexcept\u001b[39;00m \u001b[38;5;167;01mException\u001b[39;00m:\n\u001b[32m     68\u001b[39m     \u001b[38;5;28mself\u001b[39m.quit()\n",
      "\u001b[36mFile \u001b[39m\u001b[32m/usr/local/python/3.12.1/lib/python3.12/site-packages/selenium/webdriver/remote/webdriver.py:250\u001b[39m, in \u001b[36mWebDriver.__init__\u001b[39m\u001b[34m(self, command_executor, keep_alive, file_detector, options, locator_converter, web_element_cls, client_config)\u001b[39m\n\u001b[32m    248\u001b[39m \u001b[38;5;28mself\u001b[39m._authenticator_id = \u001b[38;5;28;01mNone\u001b[39;00m\n\u001b[32m    249\u001b[39m \u001b[38;5;28mself\u001b[39m.start_client()\n\u001b[32m--> \u001b[39m\u001b[32m250\u001b[39m \u001b[38;5;28;43mself\u001b[39;49m\u001b[43m.\u001b[49m\u001b[43mstart_session\u001b[49m\u001b[43m(\u001b[49m\u001b[43mcapabilities\u001b[49m\u001b[43m)\u001b[49m\n\u001b[32m    251\u001b[39m \u001b[38;5;28mself\u001b[39m._fedcm = FedCM(\u001b[38;5;28mself\u001b[39m)\n\u001b[32m    253\u001b[39m \u001b[38;5;28mself\u001b[39m._websocket_connection = \u001b[38;5;28;01mNone\u001b[39;00m\n",
      "\u001b[36mFile \u001b[39m\u001b[32m/usr/local/python/3.12.1/lib/python3.12/site-packages/selenium/webdriver/remote/webdriver.py:342\u001b[39m, in \u001b[36mWebDriver.start_session\u001b[39m\u001b[34m(self, capabilities)\u001b[39m\n\u001b[32m    333\u001b[39m \u001b[38;5;250m\u001b[39m\u001b[33;03m\"\"\"Creates a new session with the desired capabilities.\u001b[39;00m\n\u001b[32m    334\u001b[39m \n\u001b[32m    335\u001b[39m \u001b[33;03mParameters:\u001b[39;00m\n\u001b[32m   (...)\u001b[39m\u001b[32m    338\u001b[39m \u001b[33;03m    - A capabilities dict to start the session with.\u001b[39;00m\n\u001b[32m    339\u001b[39m \u001b[33;03m\"\"\"\u001b[39;00m\n\u001b[32m    341\u001b[39m caps = _create_caps(capabilities)\n\u001b[32m--> \u001b[39m\u001b[32m342\u001b[39m response = \u001b[38;5;28;43mself\u001b[39;49m\u001b[43m.\u001b[49m\u001b[43mexecute\u001b[49m\u001b[43m(\u001b[49m\u001b[43mCommand\u001b[49m\u001b[43m.\u001b[49m\u001b[43mNEW_SESSION\u001b[49m\u001b[43m,\u001b[49m\u001b[43m \u001b[49m\u001b[43mcaps\u001b[49m\u001b[43m)\u001b[49m[\u001b[33m\"\u001b[39m\u001b[33mvalue\u001b[39m\u001b[33m\"\u001b[39m]\n\u001b[32m    343\u001b[39m \u001b[38;5;28mself\u001b[39m.session_id = response.get(\u001b[33m\"\u001b[39m\u001b[33msessionId\u001b[39m\u001b[33m\"\u001b[39m)\n\u001b[32m    344\u001b[39m \u001b[38;5;28mself\u001b[39m.caps = response.get(\u001b[33m\"\u001b[39m\u001b[33mcapabilities\u001b[39m\u001b[33m\"\u001b[39m)\n",
      "\u001b[36mFile \u001b[39m\u001b[32m/usr/local/python/3.12.1/lib/python3.12/site-packages/selenium/webdriver/remote/webdriver.py:429\u001b[39m, in \u001b[36mWebDriver.execute\u001b[39m\u001b[34m(self, driver_command, params)\u001b[39m\n\u001b[32m    427\u001b[39m response = \u001b[38;5;28mself\u001b[39m.command_executor.execute(driver_command, params)\n\u001b[32m    428\u001b[39m \u001b[38;5;28;01mif\u001b[39;00m response:\n\u001b[32m--> \u001b[39m\u001b[32m429\u001b[39m     \u001b[38;5;28;43mself\u001b[39;49m\u001b[43m.\u001b[49m\u001b[43merror_handler\u001b[49m\u001b[43m.\u001b[49m\u001b[43mcheck_response\u001b[49m\u001b[43m(\u001b[49m\u001b[43mresponse\u001b[49m\u001b[43m)\u001b[49m\n\u001b[32m    430\u001b[39m     response[\u001b[33m\"\u001b[39m\u001b[33mvalue\u001b[39m\u001b[33m\"\u001b[39m] = \u001b[38;5;28mself\u001b[39m._unwrap_value(response.get(\u001b[33m\"\u001b[39m\u001b[33mvalue\u001b[39m\u001b[33m\"\u001b[39m, \u001b[38;5;28;01mNone\u001b[39;00m))\n\u001b[32m    431\u001b[39m     \u001b[38;5;28;01mreturn\u001b[39;00m response\n",
      "\u001b[36mFile \u001b[39m\u001b[32m/usr/local/python/3.12.1/lib/python3.12/site-packages/selenium/webdriver/remote/errorhandler.py:232\u001b[39m, in \u001b[36mErrorHandler.check_response\u001b[39m\u001b[34m(self, response)\u001b[39m\n\u001b[32m    230\u001b[39m         alert_text = value[\u001b[33m\"\u001b[39m\u001b[33malert\u001b[39m\u001b[33m\"\u001b[39m].get(\u001b[33m\"\u001b[39m\u001b[33mtext\u001b[39m\u001b[33m\"\u001b[39m)\n\u001b[32m    231\u001b[39m     \u001b[38;5;28;01mraise\u001b[39;00m exception_class(message, screen, stacktrace, alert_text)  \u001b[38;5;66;03m# type: ignore[call-arg]  # mypy is not smart enough here\u001b[39;00m\n\u001b[32m--> \u001b[39m\u001b[32m232\u001b[39m \u001b[38;5;28;01mraise\u001b[39;00m exception_class(message, screen, stacktrace)\n",
      "\u001b[31mSessionNotCreatedException\u001b[39m: Message: session not created: probably user data directory is already in use, please specify a unique value for --user-data-dir argument, or don't use --user-data-dir\nStacktrace:\n#0 0x55c57e415d0a <unknown>\n#1 0x55c57dec65f0 <unknown>\n#2 0x55c57df000db <unknown>\n#3 0x55c57defbe2f <unknown>\n#4 0x55c57df4bf9e <unknown>\n#5 0x55c57df4b4c6 <unknown>\n#6 0x55c57df3d433 <unknown>\n#7 0x55c57df09ea3 <unknown>\n#8 0x55c57df0ab01 <unknown>\n#9 0x55c57e3dab5b <unknown>\n#10 0x55c57e3dea41 <unknown>\n#11 0x55c57e3c1c52 <unknown>\n#12 0x55c57e3df5b4 <unknown>\n#13 0x55c57e3a5f0f <unknown>\n#14 0x55c57e403db8 <unknown>\n#15 0x55c57e403f96 <unknown>\n#16 0x55c57e414b56 <unknown>\n#17 0x73695022a609 start_thread\n"
     ]
    }
   ],
   "source": [
    "from selenium import webdriver\n",
    "from selenium.webdriver.common.keys import Keys\n",
    "from selenium.webdriver.common.by import By\n",
    "import time\n",
    "\n",
    "\n",
    "\n",
    "options = webdriver.ChromeOptions()\n",
    "# Remove the user-data-dir argument\n",
    "# options.add_argument(\"--user-data-dir=/workspaces/Stock_analysis\")\n",
    "\n",
    "driver = webdriver.Chrome(options=options)\n",
    "\n",
    "\n",
    "# driver = webdriver.Chrome()\n",
    "driver.get(link)\n",
    "time.sleep(5)\n",
    "driver.close()"
   ]
  },
  {
   "cell_type": "code",
   "execution_count": null,
   "id": "5723af40",
   "metadata": {},
   "outputs": [],
   "source": []
  },
  {
   "cell_type": "code",
   "execution_count": null,
   "id": "557504d0",
   "metadata": {},
   "outputs": [],
   "source": []
  },
  {
   "cell_type": "code",
   "execution_count": null,
   "id": "65c1602e",
   "metadata": {},
   "outputs": [],
   "source": []
  },
  {
   "cell_type": "code",
   "execution_count": null,
   "id": "333a0de1",
   "metadata": {},
   "outputs": [],
   "source": []
  },
  {
   "cell_type": "code",
   "execution_count": null,
   "id": "adffeaa2",
   "metadata": {},
   "outputs": [],
   "source": []
  },
  {
   "cell_type": "code",
   "execution_count": null,
   "id": "023dc358",
   "metadata": {},
   "outputs": [],
   "source": []
  },
  {
   "cell_type": "code",
   "execution_count": null,
   "id": "2eba1a0c",
   "metadata": {},
   "outputs": [],
   "source": []
  },
  {
   "cell_type": "code",
   "execution_count": 21,
   "id": "fb6a8f85",
   "metadata": {},
   "outputs": [],
   "source": [
    "uri = 'https://www.google.com/?s=ok&code=200&auth_code=eyJhbGciOiJIUzI1NiIsInR5cCI6IkpXVCJ9.eyJhcHBfaWQiOiJFVFlITVZOMVE2IiwidXVpZCI6ImQ2YzNmYzZlMTlhZTRmZWM5ZTYzMjA0OTUyODMyZGRjIiwiaXBBZGRyIjoiIiwibm9uY2UiOiIiLCJzY29wZSI6IiIsImRpc3BsYXlfbmFtZSI6IllKMDg1MjYiLCJvbXMiOiJLMSIsImhzbV9rZXkiOiJiZmIzZWQxZWE5ZmQwOGIzNzA1NGJlNmM1YmZjYzJiMDg1MmI4Mjg1ZDVmMWNmMGEyYWM0YTdkMyIsImlzRGRwaUVuYWJsZWQiOiJOIiwiaXNNdGZFbmFibGVkIjoiTiIsImF1ZCI6IltcImQ6MVwiLFwiZDoyXCIsXCJ4OjBcIixcIng6MVwiLFwieDoyXCJdIiwiZXhwIjoxNzQ0NTU1OTE5LCJpYXQiOjE3NDQ1MjU5MTksImlzcyI6ImFwaS5sb2dpbi5meWVycy5pbiIsIm5iZiI6MTc0NDUyNTkxOSwic3ViIjoiYXV0aF9jb2RlIn0.eQF-vhV37uEPIm3gfbV5GO-2pRPfJ0EuVdV12gpPe_M&state=None'"
   ]
  },
  {
   "cell_type": "code",
   "execution_count": 22,
   "id": "fe17fa0b",
   "metadata": {},
   "outputs": [],
   "source": [
    "auth = uri.split('auth_code=')[1].split('&state')[0]"
   ]
  },
  {
   "cell_type": "code",
   "execution_count": 23,
   "id": "af492e8f",
   "metadata": {},
   "outputs": [
    {
     "name": "stdout",
     "output_type": "stream",
     "text": [
      "eyJhbGciOiJIUzI1NiIsInR5cCI6IkpXVCJ9.eyJhcHBfaWQiOiJFVFlITVZOMVE2IiwidXVpZCI6ImQ2YzNmYzZlMTlhZTRmZWM5ZTYzMjA0OTUyODMyZGRjIiwiaXBBZGRyIjoiIiwibm9uY2UiOiIiLCJzY29wZSI6IiIsImRpc3BsYXlfbmFtZSI6IllKMDg1MjYiLCJvbXMiOiJLMSIsImhzbV9rZXkiOiJiZmIzZWQxZWE5ZmQwOGIzNzA1NGJlNmM1YmZjYzJiMDg1MmI4Mjg1ZDVmMWNmMGEyYWM0YTdkMyIsImlzRGRwaUVuYWJsZWQiOiJOIiwiaXNNdGZFbmFibGVkIjoiTiIsImF1ZCI6IltcImQ6MVwiLFwiZDoyXCIsXCJ4OjBcIixcIng6MVwiLFwieDoyXCJdIiwiZXhwIjoxNzQ0NTU1OTE5LCJpYXQiOjE3NDQ1MjU5MTksImlzcyI6ImFwaS5sb2dpbi5meWVycy5pbiIsIm5iZiI6MTc0NDUyNTkxOSwic3ViIjoiYXV0aF9jb2RlIn0.eQF-vhV37uEPIm3gfbV5GO-2pRPfJ0EuVdV12gpPe_M\n"
     ]
    }
   ],
   "source": [
    "print(auth)"
   ]
  },
  {
   "cell_type": "code",
   "execution_count": 24,
   "id": "5d89ece9",
   "metadata": {},
   "outputs": [
    {
     "name": "stdout",
     "output_type": "stream",
     "text": [
      "{'access_token': 'eyJhbGciOiJIUzI1NiIsInR5cCI6IkpXVCJ9.eyJhdWQiOlsiZDoxIiwiZDoyIiwieDowIiwieDoxIiwieDoyIl0sImF0X2hhc2giOiJnQUFBQUFCbi0xcUVySEF2Y1NGbnY5cEhvWkttSGZORF9MdlM0dnNGSHBndmRyR2hHX2pHZi1qTWtYT0RscXhZOGhkSFM3NWF0N1JzWFpLZjNNX0lCbmtqLTJQQ2V0QTk5T1R4QlFaZ05Nby00LWFLZGdoSk1wWT0iLCJkaXNwbGF5X25hbWUiOiIiLCJvbXMiOiJLMSIsImhzbV9rZXkiOiJiZmIzZWQxZWE5ZmQwOGIzNzA1NGJlNmM1YmZjYzJiMDg1MmI4Mjg1ZDVmMWNmMGEyYWM0YTdkMyIsImlzRGRwaUVuYWJsZWQiOiJOIiwiaXNNdGZFbmFibGVkIjoiTiIsImZ5X2lkIjoiWUowODUyNiIsImFwcFR5cGUiOjEwMCwiZXhwIjoxNzQ0NTkwNjAwLCJpYXQiOjE3NDQ1MjU5NTYsImlzcyI6ImFwaS5meWVycy5pbiIsIm5iZiI6MTc0NDUyNTk1Niwic3ViIjoiYWNjZXNzX3Rva2VuIn0.JlcjZFdRXkY4T1zR_icp7EXe2k7GxDF31ghOjUzkhaA', 'code': 200, 'message': '', 'refresh_token': 'eyJhbGciOiJIUzI1NiIsInR5cCI6IkpXVCJ9.eyJhdWQiOlsiZDoxIiwiZDoyIiwieDowIiwieDoxIiwieDoyIl0sImF0X2hhc2giOiJnQUFBQUFCbi0xcUVySEF2Y1NGbnY5cEhvWkttSGZORF9MdlM0dnNGSHBndmRyR2hHX2pHZi1qTWtYT0RscXhZOGhkSFM3NWF0N1JzWFpLZjNNX0lCbmtqLTJQQ2V0QTk5T1R4QlFaZ05Nby00LWFLZGdoSk1wWT0iLCJkaXNwbGF5X25hbWUiOiIiLCJvbXMiOiJLMSIsImhzbV9rZXkiOiJiZmIzZWQxZWE5ZmQwOGIzNzA1NGJlNmM1YmZjYzJiMDg1MmI4Mjg1ZDVmMWNmMGEyYWM0YTdkMyIsImlzRGRwaUVuYWJsZWQiOiJOIiwiaXNNdGZFbmFibGVkIjoiTiIsImZ5X2lkIjoiWUowODUyNiIsImFwcFR5cGUiOjEwMCwiZXhwIjoxNzQ1ODAwMjAwLCJpYXQiOjE3NDQ1MjU5NTYsImlzcyI6ImFwaS5meWVycy5pbiIsIm5iZiI6MTc0NDUyNTk1Niwic3ViIjoicmVmcmVzaF90b2tlbiJ9.LUqrzLYKt3uX4Zbm3P8Nm0JNN5IKl3BSOFmoMRvomQk', 's': 'ok'}\n"
     ]
    }
   ],
   "source": [
    "# Define your Fyers API credentials\n",
    "client_id = 'ETYHMVN1Q6-100'\n",
    "secret_key = 'I0CJUFFA03'\n",
    "redirect_uri = 'https://www.google.com/'\n",
    "\n",
    "response_type = \"code\" \n",
    "grant_type = \"authorization_code\"  \n",
    "\n",
    "# The authorization code received from Fyers after the user grants access\n",
    "auth_code = auth\n",
    "\n",
    "# Create a session object to handle the Fyers API authentication and token generation\n",
    "session = fyersModel.SessionModel(\n",
    "    client_id=client_id,\n",
    "    secret_key=secret_key, \n",
    "    redirect_uri=redirect_uri, \n",
    "    response_type=response_type, \n",
    "    grant_type=grant_type\n",
    ")\n",
    "\n",
    "# Set the authorization code in the session object\n",
    "session.set_token(auth_code)\n",
    "\n",
    "# Generate the access token using the authorization code\n",
    "response = session.generate_token()\n",
    "\n",
    "# Print the response, which should contain the access token and other details\n",
    "print(response)\n",
    "\n",
    "\n",
    "# ----------------------------------------------------------------------------------\n",
    "# Sample Success Response               \n",
    "# ----------------------------------------------------------------------------------          \n",
    "\n",
    "# {\n",
    "#   's': 'ok',\n",
    "#   'code': 200,\n",
    "#   'message': '',\n",
    "#   'access_token': 'eyJ0eXAiOi***.eyJpc3MiOiJh***.HrSubihiFKXOpUOj_7***',\n",
    "#   'refresh_token': 'eyJ0eXAiO***.eyJpc3MiOiJh***.67mXADDLrrleuEH_EE***'\n",
    "# }\n"
   ]
  },
  {
   "cell_type": "code",
   "execution_count": 25,
   "id": "b8d31c07",
   "metadata": {},
   "outputs": [
    {
     "data": {
      "text/plain": [
       "{'access_token': 'eyJhbGciOiJIUzI1NiIsInR5cCI6IkpXVCJ9.eyJhdWQiOlsiZDoxIiwiZDoyIiwieDowIiwieDoxIiwieDoyIl0sImF0X2hhc2giOiJnQUFBQUFCbi0xcUVySEF2Y1NGbnY5cEhvWkttSGZORF9MdlM0dnNGSHBndmRyR2hHX2pHZi1qTWtYT0RscXhZOGhkSFM3NWF0N1JzWFpLZjNNX0lCbmtqLTJQQ2V0QTk5T1R4QlFaZ05Nby00LWFLZGdoSk1wWT0iLCJkaXNwbGF5X25hbWUiOiIiLCJvbXMiOiJLMSIsImhzbV9rZXkiOiJiZmIzZWQxZWE5ZmQwOGIzNzA1NGJlNmM1YmZjYzJiMDg1MmI4Mjg1ZDVmMWNmMGEyYWM0YTdkMyIsImlzRGRwaUVuYWJsZWQiOiJOIiwiaXNNdGZFbmFibGVkIjoiTiIsImZ5X2lkIjoiWUowODUyNiIsImFwcFR5cGUiOjEwMCwiZXhwIjoxNzQ0NTkwNjAwLCJpYXQiOjE3NDQ1MjU5NTYsImlzcyI6ImFwaS5meWVycy5pbiIsIm5iZiI6MTc0NDUyNTk1Niwic3ViIjoiYWNjZXNzX3Rva2VuIn0.JlcjZFdRXkY4T1zR_icp7EXe2k7GxDF31ghOjUzkhaA',\n",
       " 'code': 200,\n",
       " 'message': '',\n",
       " 'refresh_token': 'eyJhbGciOiJIUzI1NiIsInR5cCI6IkpXVCJ9.eyJhdWQiOlsiZDoxIiwiZDoyIiwieDowIiwieDoxIiwieDoyIl0sImF0X2hhc2giOiJnQUFBQUFCbi0xcUVySEF2Y1NGbnY5cEhvWkttSGZORF9MdlM0dnNGSHBndmRyR2hHX2pHZi1qTWtYT0RscXhZOGhkSFM3NWF0N1JzWFpLZjNNX0lCbmtqLTJQQ2V0QTk5T1R4QlFaZ05Nby00LWFLZGdoSk1wWT0iLCJkaXNwbGF5X25hbWUiOiIiLCJvbXMiOiJLMSIsImhzbV9rZXkiOiJiZmIzZWQxZWE5ZmQwOGIzNzA1NGJlNmM1YmZjYzJiMDg1MmI4Mjg1ZDVmMWNmMGEyYWM0YTdkMyIsImlzRGRwaUVuYWJsZWQiOiJOIiwiaXNNdGZFbmFibGVkIjoiTiIsImZ5X2lkIjoiWUowODUyNiIsImFwcFR5cGUiOjEwMCwiZXhwIjoxNzQ1ODAwMjAwLCJpYXQiOjE3NDQ1MjU5NTYsImlzcyI6ImFwaS5meWVycy5pbiIsIm5iZiI6MTc0NDUyNTk1Niwic3ViIjoicmVmcmVzaF90b2tlbiJ9.LUqrzLYKt3uX4Zbm3P8Nm0JNN5IKl3BSOFmoMRvomQk',\n",
       " 's': 'ok'}"
      ]
     },
     "execution_count": 25,
     "metadata": {},
     "output_type": "execute_result"
    }
   ],
   "source": [
    "response"
   ]
  },
  {
   "cell_type": "code",
   "execution_count": 28,
   "id": "44761df7",
   "metadata": {},
   "outputs": [],
   "source": [
    "access_token = response['access_token']"
   ]
  },
  {
   "cell_type": "code",
   "execution_count": 29,
   "id": "f6c1e026",
   "metadata": {},
   "outputs": [
    {
     "data": {
      "text/plain": [
       "'eyJhbGciOiJIUzI1NiIsInR5cCI6IkpXVCJ9.eyJhdWQiOlsiZDoxIiwiZDoyIiwieDowIiwieDoxIiwieDoyIl0sImF0X2hhc2giOiJnQUFBQUFCbi0xcUVySEF2Y1NGbnY5cEhvWkttSGZORF9MdlM0dnNGSHBndmRyR2hHX2pHZi1qTWtYT0RscXhZOGhkSFM3NWF0N1JzWFpLZjNNX0lCbmtqLTJQQ2V0QTk5T1R4QlFaZ05Nby00LWFLZGdoSk1wWT0iLCJkaXNwbGF5X25hbWUiOiIiLCJvbXMiOiJLMSIsImhzbV9rZXkiOiJiZmIzZWQxZWE5ZmQwOGIzNzA1NGJlNmM1YmZjYzJiMDg1MmI4Mjg1ZDVmMWNmMGEyYWM0YTdkMyIsImlzRGRwaUVuYWJsZWQiOiJOIiwiaXNNdGZFbmFibGVkIjoiTiIsImZ5X2lkIjoiWUowODUyNiIsImFwcFR5cGUiOjEwMCwiZXhwIjoxNzQ0NTkwNjAwLCJpYXQiOjE3NDQ1MjU5NTYsImlzcyI6ImFwaS5meWVycy5pbiIsIm5iZiI6MTc0NDUyNTk1Niwic3ViIjoiYWNjZXNzX3Rva2VuIn0.JlcjZFdRXkY4T1zR_icp7EXe2k7GxDF31ghOjUzkhaA'"
      ]
     },
     "execution_count": 29,
     "metadata": {},
     "output_type": "execute_result"
    }
   ],
   "source": [
    "access_token"
   ]
  },
  {
   "cell_type": "code",
   "execution_count": 30,
   "id": "a7654e8a",
   "metadata": {},
   "outputs": [
    {
     "name": "stdout",
     "output_type": "stream",
     "text": [
      "{'candles': [[1690848000, 620.2, 620.85, 610.6, 611.85, 13493453], [1690934400, 609.85, 610.5, 594.1, 598.45, 14977497], [1691020800, 598.7, 600.85, 585, 590.5, 27774877]], 'code': 200, 'message': '', 's': 'ok'}\n"
     ]
    }
   ],
   "source": [
    "client_id = client_id\n",
    "access_token = access_token\n",
    "\n",
    "# Initialize the FyersModel instance with your client_id, access_token, and enable async mode\n",
    "fyers = fyersModel.FyersModel(client_id=client_id, is_async=False, token=access_token, log_path=\"\")\n",
    "\n",
    "data = {\n",
    "    \"symbol\":\"NSE:SBIN-EQ\",\n",
    "    \"resolution\":\"D\",\n",
    "    \"date_format\":\"0\",\n",
    "    \"range_from\":\"1690895316\",\n",
    "    \"range_to\":\"1691068173\",\n",
    "    \"cont_flag\":\"1\"\n",
    "}\n",
    "\n",
    "response = fyers.history(data=data)\n",
    "print(response)\n"
   ]
  },
  {
   "cell_type": "code",
   "execution_count": 1,
   "id": "3d324ca4",
   "metadata": {},
   "outputs": [],
   "source": [
    "import pandas as pd \n",
    "import numpy as np\n",
    "import datetime\n",
    "import Analysis\n",
    "import pandas_ta as ta\n",
    "import yfinance as yf\n",
    "import time\n",
    "from datetime import datetime, time as dt_time\n",
    "import smtplib\n",
    "from email.mime.multipart import MIMEMultipart\n",
    "from email.mime.text import MIMEText\n",
    "from email.mime.base import MIMEBase\n",
    "from email import encoders\n",
    "from pretty_html_table import build_table\n",
    "import pytz\n",
    "import os\n",
    "my_variable = os.getenv('AUTO_MAIL')"
   ]
  },
  {
   "cell_type": "code",
   "execution_count": 2,
   "id": "05b48e1b",
   "metadata": {},
   "outputs": [],
   "source": [
    "def index_5min_breakout(ticker,p):\n",
    "  # yf.download('INFY.NS',interval='1m',period = '1d',ignore_tz = True,multi_level_index=False)\n",
    "  df = yf.download(ticker, period = p , interval = '5m',ignore_tz = True,multi_level_index=False)\n",
    "  df = df.reset_index()\n",
    "  # df['Datetime'] = df['Datetime'].dt.tz_convert('Asia/Kolkata')\n",
    "  df['symbol'] = ticker.split('.')[0]\n",
    "  df['month'] = df['Datetime'].dt.month_name()\n",
    "  df['smma'] = Analysis.calculate_smma(df, period=7)\n",
    "  df['rsi'] = ta.rsi(df['Close'])\n",
    "  df['pct'] = df['Close'].pct_change()\n",
    "  df['dema'] = ta.dema(df['Close'], length=10)\n",
    "  df['super_trend'] = ta.supertrend(df['High'], df['Low'], df['Close'], length=10, multiplier=3)['SUPERT_10_3.0']\n",
    "  df['super_trend_color'] = np.where(df['Close'] > df['super_trend'] , \"green\" , \"red\")\n",
    "  df['BBM'] = ta.bbands(close = df['Close'], length=20, std=2)['BBM_20_2.0']\n",
    "  # df = calculate_fibonacci_pivots(df)\n",
    "  #identify the position it changes from green to red or viceversa, insert 0 at initial position to avoid blank\n",
    "  df['changeover'] = np.insert(np.diff(np.where(df['super_trend_color'] == 'green' , 1 , 0)),0,0)\n",
    "  df['changeover2'] = np.insert(np.diff(np.where(df['super_trend_color'] == 'red' , 1 , 0)),0,0)\n",
    "  # df['condition'] = np.insert(np.diff(np.where((df['BBM'] < df['smma']) & (df['smma'] < df['dema']) ,1,0)),0,0)\n",
    "  # df['condition2'] = np.insert(np.diff(np.where((df['BBM'] > df['smma']) & (df['smma'] > df['dema']) ,1,0)),0,0)\n",
    "  # df['breakout_down'] = np.where((df['changeover'] == 1) & (df['condition'] == 1),\"Breakout\",np.where((df['changeover2']     == 1) & (df['condition2'] == 1),\"Breakdown\",np.nan))\n",
    "  condition1 = np.where((df['BBM'] < df['smma']) & (df['smma'] < df['dema']) ,1,0)\n",
    "  condition2 = np.where((df['BBM'] > df['smma']) & (df['smma'] > df['dema']) ,1,0)\n",
    "  df['breakout_down'] = np.where((df['changeover'] == 1) & (condition1),\"Breakout\",np.where((df['changeover2']== 1) & (condition2),\"Breakdown\",np.nan))\n",
    "  \n",
    "  # np.where(df['changeover'] == 1 & df['condition'] == 1)\n",
    "  # df = df.iloc[np.where(((df['changeover'] == 1) & (df['condition'] == 1)) | ((df['changeover2'] == 1) & (df['condition2'] == 1)))]\n",
    "  df = df.iloc[np.where(((df['changeover'] == 1) & (condition1)) | ((df['changeover2'] == 1) & (condition2)))]\n",
    "  \n",
    "  # monthly = yf.download(ticker , period = '3mo' , interval = '1d')\n",
    "  # monthly = monthly.droplevel(1,axis=1).reset_index()\n",
    "  # monthly = calculate_fibonacci_pivots(monthly)\n",
    "  # df = df.merge(monthly[['Pivot','R1','R2','R3','S1','S2','S3']], left_on = [df['Datetime'].dt.month , df['Datetime'].dt.year] , right_on = [monthly['Date'].dt.month , monthly['Date'].dt.year] )\n",
    "  # df.drop(columns = ['key_1','key_0'], axis = 1 ,inplace = True )\n",
    "  return df"
   ]
  },
  {
   "cell_type": "code",
   "execution_count": 7,
   "id": "5d175bf4",
   "metadata": {},
   "outputs": [],
   "source": [
    "def send_mail(output):\n",
    "  sender_email = 'ragothaman4010@gmail.com'\n",
    "  # receiver_email = ['ragothaman4010@gmail.com','narendran2cool@gmail.com ','esyuvaraj@gmail.com','sriganishka@gmail.com']\n",
    "  receiver_email = ['ragothaman4010@gmail.com']\n",
    "  subject = 'Today option calls'\n",
    "  body = f\"\"\"\n",
    "  <html>\n",
    "    <body>\n",
    "      <p><h3>Hi,</h3><br>\n",
    "        Please find the Today's Option calls below:<br>\n",
    "      </p>\n",
    "      {output}\n",
    "        <br>\n",
    "      <h3>\n",
    "      Regards,<br>\n",
    "      LIGTHS Team\n",
    "      </h3>\n",
    "    </body>\n",
    "  </html>\n",
    "  \"\"\"\n",
    "  if not my_variable:\n",
    "        print(\"AUTO_MAIL environment variable is not set. Email not sent.\")\n",
    "        return\n",
    "  # Create MIME message\n",
    "  msg = MIMEMultipart('alternative')\n",
    "  msg['Subject'] = subject\n",
    "  msg['From'] = sender_email\n",
    "  msg['To'] = ', '.join(receiver_email)\n",
    "\n",
    "  # Attach the HTML body\n",
    "  msg.attach(MIMEText(body, 'html'))\n",
    "\n",
    "  # # Attach the plot.html file\n",
    "  # filename = \"combined_plot.html\"\n",
    "  # with open(filename, \"rb\") as attachment:\n",
    "  #     part = MIMEBase(\"application\", \"octet-stream\")\n",
    "  #     part.set_payload(attachment.read())\n",
    "\n",
    "  # # Encode file in ASCII characters to send by email    \n",
    "  # encoders.encode_base64(part)\n",
    "\n",
    "  # # Add header as key/value pair to attachment part\n",
    "  # part.add_header(\n",
    "  #     \"Content-Disposition\",\n",
    "  #     f\"attachment; filename= {filename}\",\n",
    "  # )\n",
    "\n",
    "  # # Attach the file to the message\n",
    "  # msg.attach(part)\n",
    "\n",
    "  # Send the email\n",
    "  with smtplib.SMTP('smtp.gmail.com', 587) as server:\n",
    "      server.starttls()\n",
    "      server.login(sender_email, my_variable)\n",
    "      server.sendmail(sender_email, receiver_email, msg.as_string())\n",
    "\n",
    "  print(\"Email sent successfully!\")\n",
    "\n"
   ]
  },
  {
   "cell_type": "code",
   "execution_count": 4,
   "id": "b9f348f7",
   "metadata": {},
   "outputs": [],
   "source": [
    "IST = pytz.timezone('Asia/Kolkata')"
   ]
  },
  {
   "cell_type": "code",
   "execution_count": 6,
   "id": "b3dcf7d2",
   "metadata": {},
   "outputs": [],
   "source": [
    "def is_market_hours():\n",
    "    now_ist = datetime.now(IST).time()\n",
    "    return dt_time(9, 15) <= now_ist <= dt_time(20, 00)"
   ]
  },
  {
   "cell_type": "code",
   "execution_count": 98,
   "id": "c3b04cd8",
   "metadata": {},
   "outputs": [
    {
     "name": "stderr",
     "output_type": "stream",
     "text": [
      "[*********************100%***********************]  1 of 1 completed\n",
      "[*********************100%***********************]  1 of 1 completed\n",
      "[*********************100%***********************]  1 of 1 completed\n"
     ]
    }
   ],
   "source": [
    "\n",
    "now_ist = datetime.now(IST).time()\n",
    "if is_market_hours():\n",
    "    try:\n",
    "        list_ = {'^NSEI':\"Nifty 50\",'^NSEBANK':\"BankNifty\",'NIFTY_FIN_SERVICE.NS':\"FinNifty\"}\n",
    "        dff= []\n",
    "        # chk=[]\n",
    "        for i in list_:\n",
    "            df = index_5min_breakout(i,'1d')[['Datetime','Close','breakout_down']]\n",
    "            df['index'] = list_[i]\n",
    "            dff.append(df)\n",
    "        breakout = pd.concat(dff)\n",
    "        breakout= breakout.sort_values(by=['Datetime'])\n",
    "        chk.extend(breakout['Datetime'])\n",
    "        breakout = breakout[~breakout['Datetime'].isin(chk)]\n",
    "        if len(breakout) == 0:\n",
    "            output = \"<h1>No Breakout or Breakdown till now</h1>\"  # HTML for the message\n",
    "        else:\n",
    "            output = build_table(breakout, 'yellow_dark', font_size='small', font_family='Open Sans, sans-serif',\n",
    "                                text_align='center', width='Auto', index=False, even_color='black', even_bg_color='white')\n",
    "\n",
    "        if len(breakout) > 0:\n",
    "            send_mail(output)\n",
    "        else: \n",
    "            pass\n",
    "    except Exception as e:\n",
    "        print(f\"Error occurred: {e}\")\n",
    "\n"
   ]
  },
  {
   "cell_type": "code",
   "execution_count": 82,
   "id": "2744cd51",
   "metadata": {},
   "outputs": [],
   "source": [
    "\n",
    "# Define the data\n",
    "data = [\n",
    "{\"Datetime\": \"2025-05-13 12:50:00\", \"Close\": 24614.949219, \"breakout_down\": \"Breakdown\", \"index\": \"Nifty 50\"},\n",
    "{\"Datetime\": \"2025-05-13 13:15:00\", \"Close\": 54927.300781, \"breakout_down\": \"Breakdown\", \"index\": \"BankNifty\"},\n",
    "{\"Datetime\": \"2025-05-13 13:15:00\", \"Close\": 26211.199219, \"breakout_down\": \"Breakdown\", \"index\": \"FinNifty\"}\n",
    "]\n",
    "\n",
    "# Create the DataFrame\n",
    "df = pd.DataFrame(data)\n"
   ]
  },
  {
   "cell_type": "code",
   "execution_count": 39,
   "id": "5eb4ca0d",
   "metadata": {},
   "outputs": [
    {
     "name": "stderr",
     "output_type": "stream",
     "text": [
      "[*********************100%***********************]  1 of 1 completed\n",
      "[*********************100%***********************]  1 of 1 completed\n",
      "[*********************100%***********************]  1 of 1 completed\n"
     ]
    }
   ],
   "source": [
    "dff=[]\n",
    "for i in list_:\n",
    "    df = index_5min_breakout(i,'1d')[['Datetime','Close','breakout_down']]\n",
    "    df['index'] = list_[i]\n",
    "    dff.append(df)\n",
    "breakout = pd.concat(dff)"
   ]
  },
  {
   "cell_type": "code",
   "execution_count": 100,
   "id": "00b8f6ae",
   "metadata": {},
   "outputs": [
    {
     "data": {
      "text/html": [
       "<div>\n",
       "<style scoped>\n",
       "    .dataframe tbody tr th:only-of-type {\n",
       "        vertical-align: middle;\n",
       "    }\n",
       "\n",
       "    .dataframe tbody tr th {\n",
       "        vertical-align: top;\n",
       "    }\n",
       "\n",
       "    .dataframe thead th {\n",
       "        text-align: right;\n",
       "    }\n",
       "</style>\n",
       "<table border=\"1\" class=\"dataframe\">\n",
       "  <thead>\n",
       "    <tr style=\"text-align: right;\">\n",
       "      <th></th>\n",
       "      <th>Datetime</th>\n",
       "      <th>Close</th>\n",
       "      <th>breakout_down</th>\n",
       "      <th>index</th>\n",
       "    </tr>\n",
       "  </thead>\n",
       "  <tbody>\n",
       "  </tbody>\n",
       "</table>\n",
       "</div>"
      ],
      "text/plain": [
       "Empty DataFrame\n",
       "Columns: [Datetime, Close, breakout_down, index]\n",
       "Index: []"
      ]
     },
     "execution_count": 100,
     "metadata": {},
     "output_type": "execute_result"
    }
   ],
   "source": [
    "breakout[~breakout['Datetime'].isin(chk)]"
   ]
  },
  {
   "cell_type": "code",
   "execution_count": 78,
   "id": "b1aadbe1",
   "metadata": {},
   "outputs": [],
   "source": [
    "chk.extend(df['Datetime'].values.tolist())"
   ]
  },
  {
   "cell_type": "code",
   "execution_count": 99,
   "id": "664f9d4a",
   "metadata": {},
   "outputs": [
    {
     "data": {
      "text/plain": [
       "[Timestamp('2025-05-15 13:05:00'), Timestamp('2025-05-15 13:05:00')]"
      ]
     },
     "execution_count": 99,
     "metadata": {},
     "output_type": "execute_result"
    }
   ],
   "source": [
    "chk"
   ]
  }
 ],
 "metadata": {
  "kernelspec": {
   "display_name": "Python 3",
   "language": "python",
   "name": "python3"
  },
  "language_info": {
   "codemirror_mode": {
    "name": "ipython",
    "version": 3
   },
   "file_extension": ".py",
   "mimetype": "text/x-python",
   "name": "python",
   "nbconvert_exporter": "python",
   "pygments_lexer": "ipython3",
   "version": "3.12.1"
  }
 },
 "nbformat": 4,
 "nbformat_minor": 5
}
