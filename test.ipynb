{
 "cells": [
  {
   "cell_type": "code",
   "execution_count": 4,
   "id": "f53a8d03",
   "metadata": {},
   "outputs": [],
   "source": [
    "from fyers_apiv3 import fyersModel"
   ]
  },
  {
   "cell_type": "code",
   "execution_count": 47,
   "id": "ef026d08",
   "metadata": {},
   "outputs": [],
   "source": [
    "client_id = 'ETYHMVN1Q6-100'\n",
    "secret_key = 'I0CJUFFA03'\n",
    "redirect_uri = 'https://www.google.com/'\n",
    "response_type = 'code'\n",
    "state = 'sample_state'\n",
    "user_name = ' YJ08526 '"
   ]
  },
  {
   "cell_type": "code",
   "execution_count": 48,
   "id": "833dff64",
   "metadata": {},
   "outputs": [],
   "source": [
    "session = fyersModel.SessionModel(\n",
    "    client_id= client_id,\n",
    "    secret_key= secret_key,\n",
    "    redirect_uri= redirect_uri,\n",
    "    response_type= response_type\n",
    ")"
   ]
  },
  {
   "cell_type": "code",
   "execution_count": 49,
   "id": "bc095257",
   "metadata": {},
   "outputs": [],
   "source": [
    "response = session.generate_authcode()"
   ]
  },
  {
   "cell_type": "code",
   "execution_count": 50,
   "id": "a0d0f165",
   "metadata": {},
   "outputs": [
    {
     "name": "stdout",
     "output_type": "stream",
     "text": [
      "https://api-t1.fyers.in/api/v3/generate-authcode?client_id=ETYHMVN1Q6-100&redirect_uri=https%3A%2F%2Fwww.google.com%2F&response_type=code&state=None\n"
     ]
    }
   ],
   "source": [
    "print(response)"
   ]
  },
  {
   "cell_type": "code",
   "execution_count": 51,
   "id": "c6daf048",
   "metadata": {},
   "outputs": [],
   "source": [
    "link = response "
   ]
  },
  {
   "cell_type": "code",
   "execution_count": null,
   "id": "bc9f51ac",
   "metadata": {},
   "outputs": [],
   "source": []
  },
  {
   "cell_type": "code",
   "execution_count": 52,
   "id": "5797348b",
   "metadata": {},
   "outputs": [
    {
     "ename": "SessionNotCreatedException",
     "evalue": "Message: session not created: probably user data directory is already in use, please specify a unique value for --user-data-dir argument, or don't use --user-data-dir\nStacktrace:\n#0 0x5fee85e12d0a <unknown>\n#1 0x5fee858c35f0 <unknown>\n#2 0x5fee858fd0db <unknown>\n#3 0x5fee858f8e2f <unknown>\n#4 0x5fee85948f9e <unknown>\n#5 0x5fee859484c6 <unknown>\n#6 0x5fee8593a433 <unknown>\n#7 0x5fee85906ea3 <unknown>\n#8 0x5fee85907b01 <unknown>\n#9 0x5fee85dd7b5b <unknown>\n#10 0x5fee85ddba41 <unknown>\n#11 0x5fee85dbec52 <unknown>\n#12 0x5fee85ddc5b4 <unknown>\n#13 0x5fee85da2f0f <unknown>\n#14 0x5fee85e00db8 <unknown>\n#15 0x5fee85e00f96 <unknown>\n#16 0x5fee85e11b56 <unknown>\n#17 0x70f8c3f08609 start_thread\n",
     "output_type": "error",
     "traceback": [
      "\u001b[31m---------------------------------------------------------------------------\u001b[39m",
      "\u001b[31mSessionNotCreatedException\u001b[39m                Traceback (most recent call last)",
      "\u001b[36mCell\u001b[39m\u001b[36m \u001b[39m\u001b[32mIn[52]\u001b[39m\u001b[32m, line 5\u001b[39m\n\u001b[32m      3\u001b[39m \u001b[38;5;28;01mfrom\u001b[39;00m\u001b[38;5;250m \u001b[39m\u001b[34;01mselenium\u001b[39;00m\u001b[34;01m.\u001b[39;00m\u001b[34;01mwebdriver\u001b[39;00m\u001b[34;01m.\u001b[39;00m\u001b[34;01mcommon\u001b[39;00m\u001b[34;01m.\u001b[39;00m\u001b[34;01mby\u001b[39;00m\u001b[38;5;250m \u001b[39m\u001b[38;5;28;01mimport\u001b[39;00m By\n\u001b[32m      4\u001b[39m \u001b[38;5;28;01mimport\u001b[39;00m\u001b[38;5;250m \u001b[39m\u001b[34;01mtime\u001b[39;00m \n\u001b[32m----> \u001b[39m\u001b[32m5\u001b[39m driver = \u001b[43mwebdriver\u001b[49m\u001b[43m.\u001b[49m\u001b[43mChrome\u001b[49m\u001b[43m(\u001b[49m\u001b[43m)\u001b[49m\n\u001b[32m      6\u001b[39m driver.get(link)\n\u001b[32m      7\u001b[39m time.sleep(\u001b[32m5\u001b[39m)\n",
      "\u001b[36mFile \u001b[39m\u001b[32m/usr/local/python/3.12.1/lib/python3.12/site-packages/selenium/webdriver/chrome/webdriver.py:45\u001b[39m, in \u001b[36mWebDriver.__init__\u001b[39m\u001b[34m(self, options, service, keep_alive)\u001b[39m\n\u001b[32m     42\u001b[39m service = service \u001b[38;5;28;01mif\u001b[39;00m service \u001b[38;5;28;01melse\u001b[39;00m Service()\n\u001b[32m     43\u001b[39m options = options \u001b[38;5;28;01mif\u001b[39;00m options \u001b[38;5;28;01melse\u001b[39;00m Options()\n\u001b[32m---> \u001b[39m\u001b[32m45\u001b[39m \u001b[38;5;28;43msuper\u001b[39;49m\u001b[43m(\u001b[49m\u001b[43m)\u001b[49m\u001b[43m.\u001b[49m\u001b[34;43m__init__\u001b[39;49m\u001b[43m(\u001b[49m\n\u001b[32m     46\u001b[39m \u001b[43m    \u001b[49m\u001b[43mbrowser_name\u001b[49m\u001b[43m=\u001b[49m\u001b[43mDesiredCapabilities\u001b[49m\u001b[43m.\u001b[49m\u001b[43mCHROME\u001b[49m\u001b[43m[\u001b[49m\u001b[33;43m\"\u001b[39;49m\u001b[33;43mbrowserName\u001b[39;49m\u001b[33;43m\"\u001b[39;49m\u001b[43m]\u001b[49m\u001b[43m,\u001b[49m\n\u001b[32m     47\u001b[39m \u001b[43m    \u001b[49m\u001b[43mvendor_prefix\u001b[49m\u001b[43m=\u001b[49m\u001b[33;43m\"\u001b[39;49m\u001b[33;43mgoog\u001b[39;49m\u001b[33;43m\"\u001b[39;49m\u001b[43m,\u001b[49m\n\u001b[32m     48\u001b[39m \u001b[43m    \u001b[49m\u001b[43moptions\u001b[49m\u001b[43m=\u001b[49m\u001b[43moptions\u001b[49m\u001b[43m,\u001b[49m\n\u001b[32m     49\u001b[39m \u001b[43m    \u001b[49m\u001b[43mservice\u001b[49m\u001b[43m=\u001b[49m\u001b[43mservice\u001b[49m\u001b[43m,\u001b[49m\n\u001b[32m     50\u001b[39m \u001b[43m    \u001b[49m\u001b[43mkeep_alive\u001b[49m\u001b[43m=\u001b[49m\u001b[43mkeep_alive\u001b[49m\u001b[43m,\u001b[49m\n\u001b[32m     51\u001b[39m \u001b[43m\u001b[49m\u001b[43m)\u001b[49m\n",
      "\u001b[36mFile \u001b[39m\u001b[32m/usr/local/python/3.12.1/lib/python3.12/site-packages/selenium/webdriver/chromium/webdriver.py:66\u001b[39m, in \u001b[36mChromiumDriver.__init__\u001b[39m\u001b[34m(self, browser_name, vendor_prefix, options, service, keep_alive)\u001b[39m\n\u001b[32m     57\u001b[39m executor = ChromiumRemoteConnection(\n\u001b[32m     58\u001b[39m     remote_server_addr=\u001b[38;5;28mself\u001b[39m.service.service_url,\n\u001b[32m     59\u001b[39m     browser_name=browser_name,\n\u001b[32m   (...)\u001b[39m\u001b[32m     62\u001b[39m     ignore_proxy=options._ignore_local_proxy,\n\u001b[32m     63\u001b[39m )\n\u001b[32m     65\u001b[39m \u001b[38;5;28;01mtry\u001b[39;00m:\n\u001b[32m---> \u001b[39m\u001b[32m66\u001b[39m     \u001b[38;5;28;43msuper\u001b[39;49m\u001b[43m(\u001b[49m\u001b[43m)\u001b[49m\u001b[43m.\u001b[49m\u001b[34;43m__init__\u001b[39;49m\u001b[43m(\u001b[49m\u001b[43mcommand_executor\u001b[49m\u001b[43m=\u001b[49m\u001b[43mexecutor\u001b[49m\u001b[43m,\u001b[49m\u001b[43m \u001b[49m\u001b[43moptions\u001b[49m\u001b[43m=\u001b[49m\u001b[43moptions\u001b[49m\u001b[43m)\u001b[49m\n\u001b[32m     67\u001b[39m \u001b[38;5;28;01mexcept\u001b[39;00m \u001b[38;5;167;01mException\u001b[39;00m:\n\u001b[32m     68\u001b[39m     \u001b[38;5;28mself\u001b[39m.quit()\n",
      "\u001b[36mFile \u001b[39m\u001b[32m/usr/local/python/3.12.1/lib/python3.12/site-packages/selenium/webdriver/remote/webdriver.py:250\u001b[39m, in \u001b[36mWebDriver.__init__\u001b[39m\u001b[34m(self, command_executor, keep_alive, file_detector, options, locator_converter, web_element_cls, client_config)\u001b[39m\n\u001b[32m    248\u001b[39m \u001b[38;5;28mself\u001b[39m._authenticator_id = \u001b[38;5;28;01mNone\u001b[39;00m\n\u001b[32m    249\u001b[39m \u001b[38;5;28mself\u001b[39m.start_client()\n\u001b[32m--> \u001b[39m\u001b[32m250\u001b[39m \u001b[38;5;28;43mself\u001b[39;49m\u001b[43m.\u001b[49m\u001b[43mstart_session\u001b[49m\u001b[43m(\u001b[49m\u001b[43mcapabilities\u001b[49m\u001b[43m)\u001b[49m\n\u001b[32m    251\u001b[39m \u001b[38;5;28mself\u001b[39m._fedcm = FedCM(\u001b[38;5;28mself\u001b[39m)\n\u001b[32m    253\u001b[39m \u001b[38;5;28mself\u001b[39m._websocket_connection = \u001b[38;5;28;01mNone\u001b[39;00m\n",
      "\u001b[36mFile \u001b[39m\u001b[32m/usr/local/python/3.12.1/lib/python3.12/site-packages/selenium/webdriver/remote/webdriver.py:342\u001b[39m, in \u001b[36mWebDriver.start_session\u001b[39m\u001b[34m(self, capabilities)\u001b[39m\n\u001b[32m    333\u001b[39m \u001b[38;5;250m\u001b[39m\u001b[33;03m\"\"\"Creates a new session with the desired capabilities.\u001b[39;00m\n\u001b[32m    334\u001b[39m \n\u001b[32m    335\u001b[39m \u001b[33;03mParameters:\u001b[39;00m\n\u001b[32m   (...)\u001b[39m\u001b[32m    338\u001b[39m \u001b[33;03m    - A capabilities dict to start the session with.\u001b[39;00m\n\u001b[32m    339\u001b[39m \u001b[33;03m\"\"\"\u001b[39;00m\n\u001b[32m    341\u001b[39m caps = _create_caps(capabilities)\n\u001b[32m--> \u001b[39m\u001b[32m342\u001b[39m response = \u001b[38;5;28;43mself\u001b[39;49m\u001b[43m.\u001b[49m\u001b[43mexecute\u001b[49m\u001b[43m(\u001b[49m\u001b[43mCommand\u001b[49m\u001b[43m.\u001b[49m\u001b[43mNEW_SESSION\u001b[49m\u001b[43m,\u001b[49m\u001b[43m \u001b[49m\u001b[43mcaps\u001b[49m\u001b[43m)\u001b[49m[\u001b[33m\"\u001b[39m\u001b[33mvalue\u001b[39m\u001b[33m\"\u001b[39m]\n\u001b[32m    343\u001b[39m \u001b[38;5;28mself\u001b[39m.session_id = response.get(\u001b[33m\"\u001b[39m\u001b[33msessionId\u001b[39m\u001b[33m\"\u001b[39m)\n\u001b[32m    344\u001b[39m \u001b[38;5;28mself\u001b[39m.caps = response.get(\u001b[33m\"\u001b[39m\u001b[33mcapabilities\u001b[39m\u001b[33m\"\u001b[39m)\n",
      "\u001b[36mFile \u001b[39m\u001b[32m/usr/local/python/3.12.1/lib/python3.12/site-packages/selenium/webdriver/remote/webdriver.py:429\u001b[39m, in \u001b[36mWebDriver.execute\u001b[39m\u001b[34m(self, driver_command, params)\u001b[39m\n\u001b[32m    427\u001b[39m response = \u001b[38;5;28mself\u001b[39m.command_executor.execute(driver_command, params)\n\u001b[32m    428\u001b[39m \u001b[38;5;28;01mif\u001b[39;00m response:\n\u001b[32m--> \u001b[39m\u001b[32m429\u001b[39m     \u001b[38;5;28;43mself\u001b[39;49m\u001b[43m.\u001b[49m\u001b[43merror_handler\u001b[49m\u001b[43m.\u001b[49m\u001b[43mcheck_response\u001b[49m\u001b[43m(\u001b[49m\u001b[43mresponse\u001b[49m\u001b[43m)\u001b[49m\n\u001b[32m    430\u001b[39m     response[\u001b[33m\"\u001b[39m\u001b[33mvalue\u001b[39m\u001b[33m\"\u001b[39m] = \u001b[38;5;28mself\u001b[39m._unwrap_value(response.get(\u001b[33m\"\u001b[39m\u001b[33mvalue\u001b[39m\u001b[33m\"\u001b[39m, \u001b[38;5;28;01mNone\u001b[39;00m))\n\u001b[32m    431\u001b[39m     \u001b[38;5;28;01mreturn\u001b[39;00m response\n",
      "\u001b[36mFile \u001b[39m\u001b[32m/usr/local/python/3.12.1/lib/python3.12/site-packages/selenium/webdriver/remote/errorhandler.py:232\u001b[39m, in \u001b[36mErrorHandler.check_response\u001b[39m\u001b[34m(self, response)\u001b[39m\n\u001b[32m    230\u001b[39m         alert_text = value[\u001b[33m\"\u001b[39m\u001b[33malert\u001b[39m\u001b[33m\"\u001b[39m].get(\u001b[33m\"\u001b[39m\u001b[33mtext\u001b[39m\u001b[33m\"\u001b[39m)\n\u001b[32m    231\u001b[39m     \u001b[38;5;28;01mraise\u001b[39;00m exception_class(message, screen, stacktrace, alert_text)  \u001b[38;5;66;03m# type: ignore[call-arg]  # mypy is not smart enough here\u001b[39;00m\n\u001b[32m--> \u001b[39m\u001b[32m232\u001b[39m \u001b[38;5;28;01mraise\u001b[39;00m exception_class(message, screen, stacktrace)\n",
      "\u001b[31mSessionNotCreatedException\u001b[39m: Message: session not created: probably user data directory is already in use, please specify a unique value for --user-data-dir argument, or don't use --user-data-dir\nStacktrace:\n#0 0x5fee85e12d0a <unknown>\n#1 0x5fee858c35f0 <unknown>\n#2 0x5fee858fd0db <unknown>\n#3 0x5fee858f8e2f <unknown>\n#4 0x5fee85948f9e <unknown>\n#5 0x5fee859484c6 <unknown>\n#6 0x5fee8593a433 <unknown>\n#7 0x5fee85906ea3 <unknown>\n#8 0x5fee85907b01 <unknown>\n#9 0x5fee85dd7b5b <unknown>\n#10 0x5fee85ddba41 <unknown>\n#11 0x5fee85dbec52 <unknown>\n#12 0x5fee85ddc5b4 <unknown>\n#13 0x5fee85da2f0f <unknown>\n#14 0x5fee85e00db8 <unknown>\n#15 0x5fee85e00f96 <unknown>\n#16 0x5fee85e11b56 <unknown>\n#17 0x70f8c3f08609 start_thread\n"
     ]
    }
   ],
   "source": [
    "from selenium import webdriver\n",
    "from selenium.webdriver.common.keys import Keys\n",
    "from selenium.webdriver.common.by import By\n",
    "import time \n",
    "driver = webdriver.Chrome()\n",
    "driver.get(link)\n",
    "time.sleep(5)\n",
    "driver.close()"
   ]
  },
  {
   "cell_type": "code",
   "execution_count": null,
   "id": "5723af40",
   "metadata": {},
   "outputs": [],
   "source": []
  },
  {
   "cell_type": "code",
   "execution_count": null,
   "id": "557504d0",
   "metadata": {},
   "outputs": [],
   "source": []
  },
  {
   "cell_type": "code",
   "execution_count": null,
   "id": "65c1602e",
   "metadata": {},
   "outputs": [],
   "source": []
  },
  {
   "cell_type": "code",
   "execution_count": null,
   "id": "333a0de1",
   "metadata": {},
   "outputs": [],
   "source": []
  },
  {
   "cell_type": "code",
   "execution_count": null,
   "id": "adffeaa2",
   "metadata": {},
   "outputs": [],
   "source": []
  },
  {
   "cell_type": "code",
   "execution_count": null,
   "id": "023dc358",
   "metadata": {},
   "outputs": [],
   "source": []
  },
  {
   "cell_type": "code",
   "execution_count": null,
   "id": "2eba1a0c",
   "metadata": {},
   "outputs": [],
   "source": []
  },
  {
   "cell_type": "code",
   "execution_count": 21,
   "id": "fb6a8f85",
   "metadata": {},
   "outputs": [],
   "source": [
    "uri = 'https://www.google.com/?s=ok&code=200&auth_code=eyJhbGciOiJIUzI1NiIsInR5cCI6IkpXVCJ9.eyJhcHBfaWQiOiJFVFlITVZOMVE2IiwidXVpZCI6ImQ2YzNmYzZlMTlhZTRmZWM5ZTYzMjA0OTUyODMyZGRjIiwiaXBBZGRyIjoiIiwibm9uY2UiOiIiLCJzY29wZSI6IiIsImRpc3BsYXlfbmFtZSI6IllKMDg1MjYiLCJvbXMiOiJLMSIsImhzbV9rZXkiOiJiZmIzZWQxZWE5ZmQwOGIzNzA1NGJlNmM1YmZjYzJiMDg1MmI4Mjg1ZDVmMWNmMGEyYWM0YTdkMyIsImlzRGRwaUVuYWJsZWQiOiJOIiwiaXNNdGZFbmFibGVkIjoiTiIsImF1ZCI6IltcImQ6MVwiLFwiZDoyXCIsXCJ4OjBcIixcIng6MVwiLFwieDoyXCJdIiwiZXhwIjoxNzQ0NTU1OTE5LCJpYXQiOjE3NDQ1MjU5MTksImlzcyI6ImFwaS5sb2dpbi5meWVycy5pbiIsIm5iZiI6MTc0NDUyNTkxOSwic3ViIjoiYXV0aF9jb2RlIn0.eQF-vhV37uEPIm3gfbV5GO-2pRPfJ0EuVdV12gpPe_M&state=None'"
   ]
  },
  {
   "cell_type": "code",
   "execution_count": 22,
   "id": "fe17fa0b",
   "metadata": {},
   "outputs": [],
   "source": [
    "auth = uri.split('auth_code=')[1].split('&state')[0]"
   ]
  },
  {
   "cell_type": "code",
   "execution_count": 23,
   "id": "af492e8f",
   "metadata": {},
   "outputs": [
    {
     "name": "stdout",
     "output_type": "stream",
     "text": [
      "eyJhbGciOiJIUzI1NiIsInR5cCI6IkpXVCJ9.eyJhcHBfaWQiOiJFVFlITVZOMVE2IiwidXVpZCI6ImQ2YzNmYzZlMTlhZTRmZWM5ZTYzMjA0OTUyODMyZGRjIiwiaXBBZGRyIjoiIiwibm9uY2UiOiIiLCJzY29wZSI6IiIsImRpc3BsYXlfbmFtZSI6IllKMDg1MjYiLCJvbXMiOiJLMSIsImhzbV9rZXkiOiJiZmIzZWQxZWE5ZmQwOGIzNzA1NGJlNmM1YmZjYzJiMDg1MmI4Mjg1ZDVmMWNmMGEyYWM0YTdkMyIsImlzRGRwaUVuYWJsZWQiOiJOIiwiaXNNdGZFbmFibGVkIjoiTiIsImF1ZCI6IltcImQ6MVwiLFwiZDoyXCIsXCJ4OjBcIixcIng6MVwiLFwieDoyXCJdIiwiZXhwIjoxNzQ0NTU1OTE5LCJpYXQiOjE3NDQ1MjU5MTksImlzcyI6ImFwaS5sb2dpbi5meWVycy5pbiIsIm5iZiI6MTc0NDUyNTkxOSwic3ViIjoiYXV0aF9jb2RlIn0.eQF-vhV37uEPIm3gfbV5GO-2pRPfJ0EuVdV12gpPe_M\n"
     ]
    }
   ],
   "source": [
    "print(auth)"
   ]
  },
  {
   "cell_type": "code",
   "execution_count": 24,
   "id": "5d89ece9",
   "metadata": {},
   "outputs": [
    {
     "name": "stdout",
     "output_type": "stream",
     "text": [
      "{'access_token': 'eyJhbGciOiJIUzI1NiIsInR5cCI6IkpXVCJ9.eyJhdWQiOlsiZDoxIiwiZDoyIiwieDowIiwieDoxIiwieDoyIl0sImF0X2hhc2giOiJnQUFBQUFCbi0xcUVySEF2Y1NGbnY5cEhvWkttSGZORF9MdlM0dnNGSHBndmRyR2hHX2pHZi1qTWtYT0RscXhZOGhkSFM3NWF0N1JzWFpLZjNNX0lCbmtqLTJQQ2V0QTk5T1R4QlFaZ05Nby00LWFLZGdoSk1wWT0iLCJkaXNwbGF5X25hbWUiOiIiLCJvbXMiOiJLMSIsImhzbV9rZXkiOiJiZmIzZWQxZWE5ZmQwOGIzNzA1NGJlNmM1YmZjYzJiMDg1MmI4Mjg1ZDVmMWNmMGEyYWM0YTdkMyIsImlzRGRwaUVuYWJsZWQiOiJOIiwiaXNNdGZFbmFibGVkIjoiTiIsImZ5X2lkIjoiWUowODUyNiIsImFwcFR5cGUiOjEwMCwiZXhwIjoxNzQ0NTkwNjAwLCJpYXQiOjE3NDQ1MjU5NTYsImlzcyI6ImFwaS5meWVycy5pbiIsIm5iZiI6MTc0NDUyNTk1Niwic3ViIjoiYWNjZXNzX3Rva2VuIn0.JlcjZFdRXkY4T1zR_icp7EXe2k7GxDF31ghOjUzkhaA', 'code': 200, 'message': '', 'refresh_token': 'eyJhbGciOiJIUzI1NiIsInR5cCI6IkpXVCJ9.eyJhdWQiOlsiZDoxIiwiZDoyIiwieDowIiwieDoxIiwieDoyIl0sImF0X2hhc2giOiJnQUFBQUFCbi0xcUVySEF2Y1NGbnY5cEhvWkttSGZORF9MdlM0dnNGSHBndmRyR2hHX2pHZi1qTWtYT0RscXhZOGhkSFM3NWF0N1JzWFpLZjNNX0lCbmtqLTJQQ2V0QTk5T1R4QlFaZ05Nby00LWFLZGdoSk1wWT0iLCJkaXNwbGF5X25hbWUiOiIiLCJvbXMiOiJLMSIsImhzbV9rZXkiOiJiZmIzZWQxZWE5ZmQwOGIzNzA1NGJlNmM1YmZjYzJiMDg1MmI4Mjg1ZDVmMWNmMGEyYWM0YTdkMyIsImlzRGRwaUVuYWJsZWQiOiJOIiwiaXNNdGZFbmFibGVkIjoiTiIsImZ5X2lkIjoiWUowODUyNiIsImFwcFR5cGUiOjEwMCwiZXhwIjoxNzQ1ODAwMjAwLCJpYXQiOjE3NDQ1MjU5NTYsImlzcyI6ImFwaS5meWVycy5pbiIsIm5iZiI6MTc0NDUyNTk1Niwic3ViIjoicmVmcmVzaF90b2tlbiJ9.LUqrzLYKt3uX4Zbm3P8Nm0JNN5IKl3BSOFmoMRvomQk', 's': 'ok'}\n"
     ]
    }
   ],
   "source": [
    "# Define your Fyers API credentials\n",
    "client_id = 'ETYHMVN1Q6-100'\n",
    "secret_key = 'I0CJUFFA03'\n",
    "redirect_uri = 'https://www.google.com/'\n",
    "\n",
    "response_type = \"code\" \n",
    "grant_type = \"authorization_code\"  \n",
    "\n",
    "# The authorization code received from Fyers after the user grants access\n",
    "auth_code = auth\n",
    "\n",
    "# Create a session object to handle the Fyers API authentication and token generation\n",
    "session = fyersModel.SessionModel(\n",
    "    client_id=client_id,\n",
    "    secret_key=secret_key, \n",
    "    redirect_uri=redirect_uri, \n",
    "    response_type=response_type, \n",
    "    grant_type=grant_type\n",
    ")\n",
    "\n",
    "# Set the authorization code in the session object\n",
    "session.set_token(auth_code)\n",
    "\n",
    "# Generate the access token using the authorization code\n",
    "response = session.generate_token()\n",
    "\n",
    "# Print the response, which should contain the access token and other details\n",
    "print(response)\n",
    "\n",
    "\n",
    "# ----------------------------------------------------------------------------------\n",
    "# Sample Success Response               \n",
    "# ----------------------------------------------------------------------------------          \n",
    "\n",
    "# {\n",
    "#   's': 'ok',\n",
    "#   'code': 200,\n",
    "#   'message': '',\n",
    "#   'access_token': 'eyJ0eXAiOi***.eyJpc3MiOiJh***.HrSubihiFKXOpUOj_7***',\n",
    "#   'refresh_token': 'eyJ0eXAiO***.eyJpc3MiOiJh***.67mXADDLrrleuEH_EE***'\n",
    "# }\n"
   ]
  },
  {
   "cell_type": "code",
   "execution_count": 25,
   "id": "b8d31c07",
   "metadata": {},
   "outputs": [
    {
     "data": {
      "text/plain": [
       "{'access_token': 'eyJhbGciOiJIUzI1NiIsInR5cCI6IkpXVCJ9.eyJhdWQiOlsiZDoxIiwiZDoyIiwieDowIiwieDoxIiwieDoyIl0sImF0X2hhc2giOiJnQUFBQUFCbi0xcUVySEF2Y1NGbnY5cEhvWkttSGZORF9MdlM0dnNGSHBndmRyR2hHX2pHZi1qTWtYT0RscXhZOGhkSFM3NWF0N1JzWFpLZjNNX0lCbmtqLTJQQ2V0QTk5T1R4QlFaZ05Nby00LWFLZGdoSk1wWT0iLCJkaXNwbGF5X25hbWUiOiIiLCJvbXMiOiJLMSIsImhzbV9rZXkiOiJiZmIzZWQxZWE5ZmQwOGIzNzA1NGJlNmM1YmZjYzJiMDg1MmI4Mjg1ZDVmMWNmMGEyYWM0YTdkMyIsImlzRGRwaUVuYWJsZWQiOiJOIiwiaXNNdGZFbmFibGVkIjoiTiIsImZ5X2lkIjoiWUowODUyNiIsImFwcFR5cGUiOjEwMCwiZXhwIjoxNzQ0NTkwNjAwLCJpYXQiOjE3NDQ1MjU5NTYsImlzcyI6ImFwaS5meWVycy5pbiIsIm5iZiI6MTc0NDUyNTk1Niwic3ViIjoiYWNjZXNzX3Rva2VuIn0.JlcjZFdRXkY4T1zR_icp7EXe2k7GxDF31ghOjUzkhaA',\n",
       " 'code': 200,\n",
       " 'message': '',\n",
       " 'refresh_token': 'eyJhbGciOiJIUzI1NiIsInR5cCI6IkpXVCJ9.eyJhdWQiOlsiZDoxIiwiZDoyIiwieDowIiwieDoxIiwieDoyIl0sImF0X2hhc2giOiJnQUFBQUFCbi0xcUVySEF2Y1NGbnY5cEhvWkttSGZORF9MdlM0dnNGSHBndmRyR2hHX2pHZi1qTWtYT0RscXhZOGhkSFM3NWF0N1JzWFpLZjNNX0lCbmtqLTJQQ2V0QTk5T1R4QlFaZ05Nby00LWFLZGdoSk1wWT0iLCJkaXNwbGF5X25hbWUiOiIiLCJvbXMiOiJLMSIsImhzbV9rZXkiOiJiZmIzZWQxZWE5ZmQwOGIzNzA1NGJlNmM1YmZjYzJiMDg1MmI4Mjg1ZDVmMWNmMGEyYWM0YTdkMyIsImlzRGRwaUVuYWJsZWQiOiJOIiwiaXNNdGZFbmFibGVkIjoiTiIsImZ5X2lkIjoiWUowODUyNiIsImFwcFR5cGUiOjEwMCwiZXhwIjoxNzQ1ODAwMjAwLCJpYXQiOjE3NDQ1MjU5NTYsImlzcyI6ImFwaS5meWVycy5pbiIsIm5iZiI6MTc0NDUyNTk1Niwic3ViIjoicmVmcmVzaF90b2tlbiJ9.LUqrzLYKt3uX4Zbm3P8Nm0JNN5IKl3BSOFmoMRvomQk',\n",
       " 's': 'ok'}"
      ]
     },
     "execution_count": 25,
     "metadata": {},
     "output_type": "execute_result"
    }
   ],
   "source": [
    "response"
   ]
  },
  {
   "cell_type": "code",
   "execution_count": 28,
   "id": "44761df7",
   "metadata": {},
   "outputs": [],
   "source": [
    "access_token = response['access_token']"
   ]
  },
  {
   "cell_type": "code",
   "execution_count": 29,
   "id": "f6c1e026",
   "metadata": {},
   "outputs": [
    {
     "data": {
      "text/plain": [
       "'eyJhbGciOiJIUzI1NiIsInR5cCI6IkpXVCJ9.eyJhdWQiOlsiZDoxIiwiZDoyIiwieDowIiwieDoxIiwieDoyIl0sImF0X2hhc2giOiJnQUFBQUFCbi0xcUVySEF2Y1NGbnY5cEhvWkttSGZORF9MdlM0dnNGSHBndmRyR2hHX2pHZi1qTWtYT0RscXhZOGhkSFM3NWF0N1JzWFpLZjNNX0lCbmtqLTJQQ2V0QTk5T1R4QlFaZ05Nby00LWFLZGdoSk1wWT0iLCJkaXNwbGF5X25hbWUiOiIiLCJvbXMiOiJLMSIsImhzbV9rZXkiOiJiZmIzZWQxZWE5ZmQwOGIzNzA1NGJlNmM1YmZjYzJiMDg1MmI4Mjg1ZDVmMWNmMGEyYWM0YTdkMyIsImlzRGRwaUVuYWJsZWQiOiJOIiwiaXNNdGZFbmFibGVkIjoiTiIsImZ5X2lkIjoiWUowODUyNiIsImFwcFR5cGUiOjEwMCwiZXhwIjoxNzQ0NTkwNjAwLCJpYXQiOjE3NDQ1MjU5NTYsImlzcyI6ImFwaS5meWVycy5pbiIsIm5iZiI6MTc0NDUyNTk1Niwic3ViIjoiYWNjZXNzX3Rva2VuIn0.JlcjZFdRXkY4T1zR_icp7EXe2k7GxDF31ghOjUzkhaA'"
      ]
     },
     "execution_count": 29,
     "metadata": {},
     "output_type": "execute_result"
    }
   ],
   "source": [
    "access_token"
   ]
  },
  {
   "cell_type": "code",
   "execution_count": 30,
   "id": "a7654e8a",
   "metadata": {},
   "outputs": [
    {
     "name": "stdout",
     "output_type": "stream",
     "text": [
      "{'candles': [[1690848000, 620.2, 620.85, 610.6, 611.85, 13493453], [1690934400, 609.85, 610.5, 594.1, 598.45, 14977497], [1691020800, 598.7, 600.85, 585, 590.5, 27774877]], 'code': 200, 'message': '', 's': 'ok'}\n"
     ]
    }
   ],
   "source": [
    "client_id = client_id\n",
    "access_token = access_token\n",
    "\n",
    "# Initialize the FyersModel instance with your client_id, access_token, and enable async mode\n",
    "fyers = fyersModel.FyersModel(client_id=client_id, is_async=False, token=access_token, log_path=\"\")\n",
    "\n",
    "data = {\n",
    "    \"symbol\":\"NSE:SBIN-EQ\",\n",
    "    \"resolution\":\"D\",\n",
    "    \"date_format\":\"0\",\n",
    "    \"range_from\":\"1690895316\",\n",
    "    \"range_to\":\"1691068173\",\n",
    "    \"cont_flag\":\"1\"\n",
    "}\n",
    "\n",
    "response = fyers.history(data=data)\n",
    "print(response)\n"
   ]
  },
  {
   "cell_type": "code",
   "execution_count": null,
   "id": "3d324ca4",
   "metadata": {},
   "outputs": [],
   "source": []
  }
 ],
 "metadata": {
  "kernelspec": {
   "display_name": "Python 3",
   "language": "python",
   "name": "python3"
  },
  "language_info": {
   "codemirror_mode": {
    "name": "ipython",
    "version": 3
   },
   "file_extension": ".py",
   "mimetype": "text/x-python",
   "name": "python",
   "nbconvert_exporter": "python",
   "pygments_lexer": "ipython3",
   "version": "3.12.1"
  }
 },
 "nbformat": 4,
 "nbformat_minor": 5
}
